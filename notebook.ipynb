{
 "cells": [
  {
   "cell_type": "markdown",
   "metadata": {},
   "source": [
    "# DRL Project\n",
    "\n",
    "In this project, I implemented Deep Q Networks and Asynchronous Advantage Actor-Critic models and used them in two of the Atari games and simple gym environments."
   ]
  },
  {
   "cell_type": "markdown",
   "metadata": {},
   "source": [
    "## 1) Deep Q Networks (50)\n",
    "\n",
    "DQN has two main features, namely target networks and replay buffer. However, additional improvements have been introduced since the first release of DQN.\n",
    "\n",
    "- [Prioritized Replay Buffer](https://arxiv.org/pdf/1509.06461.pdf)\n",
    "- [Double Deep Q Networks](https://arxiv.org/pdf/1511.05952.pdf)\n",
    "- [Duelling Deep Q Networks](https://arxiv.org/pdf/1511.06581.pdf)\n",
    "\n",
    "After implementing these methods, I compared combined algorithm with the vanilla DQN. For comparison I used two [gym](https://gym.openai.com/) environments. \n",
    "- [Lunar Lander](LunarLander-v2)\n",
    "- [Pong](https://gym.openai.com/envs/Pong-v0/)\n",
    "\n"
   ]
  },
  {
   "cell_type": "code",
   "execution_count": 51,
   "metadata": {},
   "outputs": [
    {
     "name": "stdout",
     "output_type": "stream",
     "text": [
      "The autoreload extension is already loaded. To reload it, use:\n",
      "  %reload_ext autoreload\n"
     ]
    }
   ],
   "source": [
    "# In order to use modified modules without restarting\n",
    "%load_ext autoreload\n",
    "%autoreload 2"
   ]
  },
  {
   "cell_type": "code",
   "execution_count": 52,
   "metadata": {},
   "outputs": [],
   "source": [
    "import gym\n",
    "import numpy as np\n",
    "import torch\n",
    "\n",
    "from blg604ehw2.dqn import episodic_test\n",
    "from blg604ehw2.dqn import episodic_train\n",
    "\n",
    "from blg604ehw2.network import Network\n",
    "from blg604ehw2.network import FcNet\n",
    "from blg604ehw2.network import DuellingHead\n",
    "from blg604ehw2.network import SimpleHead\n",
    "\n",
    "from blg604ehw2.utils import comparison\n",
    "from blg604ehw2.utils import LoadingBar"
   ]
  },
  {
   "cell_type": "markdown",
   "metadata": {},
   "source": [
    "### Lunar Lander with DQN (15)"
   ]
  },
  {
   "cell_type": "code",
   "execution_count": 53,
   "metadata": {},
   "outputs": [],
   "source": [
    "def traindqn(env, agent, args, test_rate=1, epsilon_decay=5000):\n",
    "    \n",
    "    bar = LoadingBar(args.episode, \"Episode\")\n",
    "\n",
    "#     agent.to(args.device)\n",
    "    agent.device = args.device\n",
    "    epsilon = args.max_epsilon\n",
    "\n",
    "    time_step = 0\n",
    "    rewards = []\n",
    "    td_errors = []\n",
    "\n",
    "    best_model = None\n",
    "    best_rewards = []\n",
    "    best_reward = -np.inf\n",
    "        \n",
    "    for eps in range(args.episode):\n",
    "        ### YOUR CODE HERE ###\n",
    "        \n",
    "        # Training\n",
    "        epsilon = lambda t: args.min_epsilon + (args.max_epsilon - args.min_epsilon) * np.exp(-1*(time_step + t)/epsilon_decay)\n",
    "        elapsed_time, td_error = episodic_train(env, agent, args, epsilon)\n",
    "        time_step += elapsed_time\n",
    "        td_errors.append(td_error)\n",
    "        \n",
    "        # Testing\n",
    "        test_reward = np.mean([episodic_test(env, agent, args) for _ in range(test_rate)])\n",
    "        rewards.append(test_reward)\n",
    "        \n",
    "        if test_reward > best_reward:\n",
    "            best_reward = test_reward\n",
    "            best_model = agent.state_dict()\n",
    "        best_rewards.append(best_reward)\n",
    "        \n",
    "        ###       END      ###\n",
    "        bar.progress(eps, best_reward)\n",
    "        \n",
    "    bar.success(best_reward)\n",
    "    return rewards, best_rewards, td_errors, time_step, best_model"
   ]
  },
  {
   "cell_type": "markdown",
   "metadata": {},
   "source": [
    "### a) Vanilla DQN"
   ]
  },
  {
   "cell_type": "code",
   "execution_count": 54,
   "metadata": {},
   "outputs": [
    {
     "name": "stderr",
     "output_type": "stream",
     "text": [
      "/home/mustafa/anaconda3/envs/blg604ehw2/lib/python3.7/site-packages/gym/envs/registration.py:14: PkgResourcesDeprecationWarning: Parameters to load are deprecated.  Call .resolve and .require separately.\n",
      "  result = entry_point.load(False)\n"
     ]
    }
   ],
   "source": [
    "from blg604ehw2.dqn import DQN\n",
    "from blg604ehw2.dqn import ArgsDQN\n",
    "\n",
    "# Set the environment name, you can try differnet environments.\n",
    "envname = \"LunarLander-v2\"\n",
    "\n",
    "# Hyperparameters for the traning\n",
    "# You need to finetune some of the  hyperparameters!\n",
    "env = gym.make(envname)\n",
    "dqn_args = ArgsDQN(\n",
    "        **dict(\n",
    "            env_name=envname,           # Name of the environment\n",
    "            nact=env.action_space.n,    # Number of actions\n",
    "            buffersize=10000,           # Size of the replay buffer\n",
    "            max_epsilon=0.9,            # Starting value of the epsilon\n",
    "            min_epsilon=0.05,           # Convergence value of the epsilon\n",
    "            target_update_period=100,   # Update period of the target network\n",
    "            gamma=0.98,                 # Discount rate\n",
    "            lr=0.001,                   # Learning rate\n",
    "            device=\"cpu\",               # Device name\n",
    "            batch_size=128,             # Batch size\n",
    "            episode=100,                # Number of episodes for training\n",
    "            max_eps_len=400             # Maximum number of time steps in an episode\n",
    "        )\n",
    "    )\n",
    "\n",
    "\n",
    "\n",
    "\n",
    "def dqn_agent():\n",
    "    # Network construction\n",
    "    feature_net = FcNet(env.observation_space.shape[0], 128)\n",
    "    head_net = SimpleHead(env.action_space.n, 128)\n",
    "    valuenet = Network(feature_net, head_net)\n",
    "    \n",
    "    # Initialize and return agent\n",
    "    return DQN(\n",
    "            valuenet = valuenet,\n",
    "            nact = env.action_space.n,\n",
    "            lr = dqn_args.lr,\n",
    "            buffer_capacity = dqn_args.buffersize,\n",
    "            target_update_period = dqn_args.target_update_period\n",
    ")"
   ]
  },
  {
   "cell_type": "code",
   "execution_count": 55,
   "metadata": {
    "scrolled": true
   },
   "outputs": [
    {
     "name": "stderr",
     "output_type": "stream",
     "text": [
      "/home/mustafa/anaconda3/envs/blg604ehw2/lib/python3.7/site-packages/gym/envs/registration.py:14: PkgResourcesDeprecationWarning: Parameters to load are deprecated.  Call .resolve and .require separately.\n",
      "  result = entry_point.load(False)\n"
     ]
    },
    {
     "data": {
      "application/vnd.jupyter.widget-view+json": {
       "model_id": "97ce4ee0407f4f6ea444cca03f004d08",
       "version_major": 2,
       "version_minor": 0
      },
      "text/plain": [
       "VBox(children=(HTML(value=''), IntProgress(value=0)))"
      ]
     },
     "metadata": {},
     "output_type": "display_data"
    },
    {
     "name": "stderr",
     "output_type": "stream",
     "text": [
      "/home/mustafa/anaconda3/envs/blg604ehw2/lib/python3.7/site-packages/numpy/core/fromnumeric.py:3118: RuntimeWarning: Mean of empty slice.\n",
      "  out=out, **kwargs)\n",
      "/home/mustafa/anaconda3/envs/blg604ehw2/lib/python3.7/site-packages/numpy/core/_methods.py:85: RuntimeWarning: invalid value encountered in double_scalars\n",
      "  ret = ret.dtype.type(ret / rcount)\n"
     ]
    },
    {
     "data": {
      "application/vnd.jupyter.widget-view+json": {
       "model_id": "ead15cbdb1af438cae8f3a9b41d5e784",
       "version_major": 2,
       "version_minor": 0
      },
      "text/plain": [
       "VBox(children=(HTML(value=''), IntProgress(value=0)))"
      ]
     },
     "metadata": {},
     "output_type": "display_data"
    },
    {
     "data": {
      "application/vnd.jupyter.widget-view+json": {
       "model_id": "957fdcd1711d4e608eb9e5af8ebf9f2a",
       "version_major": 2,
       "version_minor": 0
      },
      "text/plain": [
       "VBox(children=(HTML(value=''), IntProgress(value=0)))"
      ]
     },
     "metadata": {},
     "output_type": "display_data"
    }
   ],
   "source": [
    "REPEAT = 3\n",
    "lunar_dqn = []\n",
    "for r in range(REPEAT):\n",
    "    env = gym.make(dqn_args.env_name)\n",
    "    agent = dqn_agent()\n",
    "    lunar_dqn.append(traindqn(env, agent, dqn_args, test_rate=5))"
   ]
  },
  {
   "cell_type": "code",
   "execution_count": 56,
   "metadata": {},
   "outputs": [
    {
     "data": {
      "image/png": "[encoded data removed]",
      "text/plain": [
       "<Figure size 432x288 with 1 Axes>"
      ]
     },
     "metadata": {
      "needs_background": "light"
     },
     "output_type": "display_data"
    },
    {
     "data": {
      "image/png": "[encoded data removed]",
      "text/plain": [
       "<Figure size 432x288 with 1 Axes>"
      ]
     },
     "metadata": {
      "needs_background": "light"
     },
     "output_type": "display_data"
    },
    {
     "data": {
      "image/png": "[encoded data removed]",
      "text/plain": [
       "<Figure size 432x288 with 1 Axes>"
      ]
     },
     "metadata": {
      "needs_background": "light"
     },
     "output_type": "display_data"
    }
   ],
   "source": [
    "plot_texts = [\n",
    "    [\n",
    "        \"Episodic Reward\",\n",
    "        \"episode\",\n",
    "        \"reward\"\n",
    "    ],\n",
    "    [\n",
    "        \"Episodic Best Reward\",\n",
    "        \"episode\",\n",
    "        \"reward\"\n",
    "    ],\n",
    "    [\n",
    "        \"Td Error\",\n",
    "        \"episode\",\n",
    "        \"td\"\n",
    "    ]\n",
    "]\n",
    "comparison((lunar_dqn, \"DQN\"), texts = plot_texts)"
   ]
  },
  {
   "cell_type": "markdown",
   "metadata": {},
   "source": [
    "### b) Duelling Double Prioritized DQN (15)"
   ]
  },
  {
   "cell_type": "code",
   "execution_count": 65,
   "metadata": {},
   "outputs": [
    {
     "name": "stderr",
     "output_type": "stream",
     "text": [
      "/home/mustafa/anaconda3/envs/blg604ehw2/lib/python3.7/site-packages/gym/envs/registration.py:14: PkgResourcesDeprecationWarning: Parameters to load are deprecated.  Call .resolve and .require separately.\n",
      "  result = entry_point.load(False)\n"
     ]
    }
   ],
   "source": [
    "from blg604ehw2.dqn import DuelingDoublePrioritizedDQN\n",
    "from blg604ehw2.dqn import ArgsDDPQN\n",
    "\n",
    "\n",
    "# Hyperparameters for the traning\n",
    "# You need to finetune some of the hyperparameters!\n",
    "envname = \"LunarLander-v2\"\n",
    "env = gym.make(envname)\n",
    "ddpdqn_args = ArgsDDPQN(\n",
    "        **dict(\n",
    "            env_name=envname,           # Name of the environment\n",
    "            nact=env.action_space.n,    # Number of actions\n",
    "            buffersize=10000,           # Size of the replay buffer\n",
    "            max_epsilon=0.9,            # Starting value of the epsilon\n",
    "            min_epsilon=0.1,            # Convergence value of the epsilon\n",
    "            target_replace_period=50,#100  # Update period of the target network\n",
    "            gamma=0.98,                 # Discount rate\n",
    "            lr=0.001,                   # Learning rate\n",
    "            device=\"cpu\",               # Device name\n",
    "            batch_size=128,             # Batch size\n",
    "            episode=100,                # Number of episodes for training\n",
    "            max_eps_len=400             # Maximum number of time steps in an episode\n",
    "        )\n",
    "    )\n",
    "\n",
    "def ddpdqn_agent():\n",
    "    # Network construction\n",
    "    feature_net = FcNet(env.observation_space.shape[0], 128)\n",
    "    head_net = DuellingHead(env.action_space.n, 128)\n",
    "    valuenet = Network(feature_net, head_net)\n",
    "\n",
    "    # Initialize agent\n",
    "    return DuelingDoublePrioritizedDQN(\n",
    "        valuenet = valuenet,\n",
    "        nact = env.action_space.n,\n",
    "        lr = ddpdqn_args.lr,\n",
    "        buffer_capacity = ddpdqn_args.buffersize,\n",
    "        target_replace_period = ddpdqn_args.target_replace_period\n",
    "    )"
   ]
  },
  {
   "cell_type": "code",
   "execution_count": 66,
   "metadata": {
    "scrolled": false
   },
   "outputs": [
    {
     "name": "stderr",
     "output_type": "stream",
     "text": [
      "/home/mustafa/anaconda3/envs/blg604ehw2/lib/python3.7/site-packages/gym/envs/registration.py:14: PkgResourcesDeprecationWarning: Parameters to load are deprecated.  Call .resolve and .require separately.\n",
      "  result = entry_point.load(False)\n"
     ]
    },
    {
     "data": {
      "application/vnd.jupyter.widget-view+json": {
       "model_id": "b6c54a81469542eb94287b3907dbc44a",
       "version_major": 2,
       "version_minor": 0
      },
      "text/plain": [
       "VBox(children=(HTML(value=''), IntProgress(value=0)))"
      ]
     },
     "metadata": {},
     "output_type": "display_data"
    },
    {
     "name": "stderr",
     "output_type": "stream",
     "text": [
      "/home/mustafa/anaconda3/envs/blg604ehw2/lib/python3.7/site-packages/numpy/core/fromnumeric.py:3118: RuntimeWarning: Mean of empty slice.\n",
      "  out=out, **kwargs)\n",
      "/home/mustafa/anaconda3/envs/blg604ehw2/lib/python3.7/site-packages/numpy/core/_methods.py:85: RuntimeWarning: invalid value encountered in double_scalars\n",
      "  ret = ret.dtype.type(ret / rcount)\n"
     ]
    },
    {
     "data": {
      "application/vnd.jupyter.widget-view+json": {
       "model_id": "d240684419fe470992fabc455372bd6f",
       "version_major": 2,
       "version_minor": 0
      },
      "text/plain": [
       "VBox(children=(HTML(value=''), IntProgress(value=0)))"
      ]
     },
     "metadata": {},
     "output_type": "display_data"
    },
    {
     "data": {
      "application/vnd.jupyter.widget-view+json": {
       "model_id": "b42dbf1f05c14a7ea38b5618bbaa5399",
       "version_major": 2,
       "version_minor": 0
      },
      "text/plain": [
       "VBox(children=(HTML(value=''), IntProgress(value=0)))"
      ]
     },
     "metadata": {},
     "output_type": "display_data"
    }
   ],
   "source": [
    "REPEAT = 3\n",
    "lunar_ddpdqn = []\n",
    "for r in range(REPEAT):\n",
    "    env = gym.make(ddpdqn_args.env_name)\n",
    "    agent = ddpdqn_agent()\n",
    "    lunar_ddpdqn.append(traindqn(env, agent, ddpdqn_args, test_rate=5))"
   ]
  },
  {
   "cell_type": "code",
   "execution_count": 67,
   "metadata": {},
   "outputs": [
    {
     "data": {
      "image/png": "[encoded data removed]",
      "text/plain": [
       "<Figure size 432x288 with 1 Axes>"
      ]
     },
     "metadata": {
      "needs_background": "light"
     },
     "output_type": "display_data"
    },
    {
     "data": {
      "image/png": "[encoded data removed]",
      "text/plain": [
       "<Figure size 432x288 with 1 Axes>"
      ]
     },
     "metadata": {
      "needs_background": "light"
     },
     "output_type": "display_data"
    },
    {
     "data": {
      "image/png": "[encoded data removed]",
      "text/plain": [
       "<Figure size 432x288 with 1 Axes>"
      ]
     },
     "metadata": {
      "needs_background": "light"
     },
     "output_type": "display_data"
    }
   ],
   "source": [
    "# In this cell, I had to remove the brackets making the first parameter a tuple.\n",
    "# It was taking \"(lunar_ddpdqn, \"DDPDQN\")\" as logs and \"(lunar_dqn, \"DQN\")\" as names\n",
    "# in the loop at the comparison function.\n",
    "comparison((lunar_ddpdqn, \"DDPDQN\"), (lunar_dqn, \"DQN\"), texts = plot_texts)"
   ]
  },
  {
   "cell_type": "markdown",
   "metadata": {},
   "source": [
    "You may compare these improvements by themselves if you want to. See which one of them makes the most improvement for the Lunar Lander environment.(optional)"
   ]
  },
  {
   "cell_type": "markdown",
   "metadata": {},
   "source": [
    "#### Let's visualize the best agent"
   ]
  },
  {
   "cell_type": "code",
   "execution_count": 69,
   "metadata": {},
   "outputs": [
    {
     "name": "stderr",
     "output_type": "stream",
     "text": [
      "/home/mustafa/anaconda3/envs/blg604ehw2/lib/python3.7/site-packages/gym/envs/registration.py:14: PkgResourcesDeprecationWarning: Parameters to load are deprecated.  Call .resolve and .require separately.\n",
      "  result = entry_point.load(False)\n"
     ]
    }
   ],
   "source": [
    "# Remember that due to the stochasticty of the\n",
    "# environment it may perform differently for each run\n",
    "\n",
    "# Assuming ddpdqn works better in your environment as it should be\n",
    "best_agent_index = max(range(len(lunar_ddpdqn)), key = lambda i: lunar_ddpdqn[i][1][-1])\n",
    "best_agent_state_dict = lunar_ddpdqn[best_agent_index][4]\n",
    "best_agent = ddpdqn_agent()\n",
    "best_agent.load_state_dict(best_agent_state_dict)\n",
    "\n",
    "# Monitor saves the mp4 files under \"monitor\" folder.\n",
    "monitor_path = \"LunarLander/\" + str(ddpdqn_args.episode) + \" episode\"\n",
    "model_path = \"monitor/LunarLander/model_state_dict\"\n",
    "episodic_test(agent=best_agent, env=gym.make(ddpdqn_args.env_name), args=ddpdqn_args, monitor_path=monitor_path)\n",
    "torch.save(best_agent_state_dict, model_path)"
   ]
  },
  {
   "cell_type": "markdown",
   "metadata": {},
   "source": [
    "### Pong with Duelling Double Prioritized DQN (20)\n",
    "- This may take long time"
   ]
  },
  {
   "cell_type": "code",
   "execution_count": 70,
   "metadata": {},
   "outputs": [
    {
     "name": "stderr",
     "output_type": "stream",
     "text": [
      "/home/mustafa/anaconda3/envs/blg604ehw2/lib/python3.7/site-packages/gym/envs/registration.py:14: PkgResourcesDeprecationWarning: Parameters to load are deprecated.  Call .resolve and .require separately.\n",
      "  result = entry_point.load(False)\n"
     ]
    }
   ],
   "source": [
    "from blg604ehw2.atari_wrapper import ClipRewardEnv\n",
    "from blg604ehw2.atari_wrapper import FrameStack\n",
    "from blg604ehw2.atari_wrapper import EpisodicLifeEnv\n",
    "from blg604ehw2.atari_wrapper import WarpFrame\n",
    "from blg604ehw2.atari_wrapper import ScaledFloatFrame\n",
    "\n",
    "from blg604ehw2.network import Cnn\n",
    "\n",
    "envname = \"Pong-v4\"\n",
    "\n",
    "# Wrapped atari environment.\n",
    "# It is important to use these wrappers in order\n",
    "# to simplfy learning. In their Nature paper,\n",
    "# Deepmind used some of them to achive those\n",
    "# results. It is good to check them and see \n",
    "# what they do.\n",
    "def pongenv():\n",
    "    env = gym.make(envname)\n",
    "    env = ClipRewardEnv(env)            # Clip the reward between -1 and 1\n",
    "    env = WarpFrame(env)                # Downsample rgb (210, 160, 3) images to gray images (84, 84)\n",
    "    env = EpisodicLifeEnv(env)          # Terminate the environment after a live is lost\n",
    "    env = FrameStack(env, k=4)          # Stack consecutive frames as a single state\n",
    "    return env\n",
    "\n",
    "# Hyperparameters for the traning\n",
    "# This time parameter tunning is even more important!\n",
    "# If you have access to a gpu use it! Set the device accordingly.\n",
    "env = pongenv()\n",
    "pong_args = ArgsDDPQN(\n",
    "        **dict(\n",
    "            env_name=envname,           # Name of the environment\n",
    "            nact=env.action_space.n,    # Number of actions\n",
    "            buffersize=100000,          # Size of the replay buffer\n",
    "            max_epsilon=0.9,            # Starting value of the epsilon\n",
    "            min_epsilon=0.1,            # Convergence value of the epsilon\n",
    "            target_replace_period=1000, # Update period of the target network\n",
    "            gamma=0.99,                 # Discount rate\n",
    "            lr=0.0001,                  # Learning rate\n",
    "            device=\"cpu\",               # Device name\n",
    "            batch_size=128,             # Batch size\n",
    "            episode=1000,               # Number of episodes for training\n",
    "            max_eps_len=2000            # Maximum number of time steps in an episode\n",
    "        )\n",
    "    )\n",
    "\n",
    "def pong_agent():\n",
    "    # Network construction\n",
    "    feature_net = Cnn(4, 512)\n",
    "    head_net = DuellingHead(env.action_space.n, 512)\n",
    "    valuenet = Network(feature_net, head_net)\n",
    "\n",
    "    # Initialize agent\n",
    "    return DuelingDoublePrioritizedDQN(\n",
    "        valuenet = valuenet,\n",
    "        nact = env.action_space.n,\n",
    "        lr = pong_args.lr,\n",
    "        buffer_capacity = pong_args.buffersize,\n",
    "        target_replace_period = pong_args.target_replace_period\n",
    "    )"
   ]
  },
  {
   "cell_type": "code",
   "execution_count": 71,
   "metadata": {
    "scrolled": true
   },
   "outputs": [],
   "source": [
    "REPEAT = 1 # Assign 1 if you dont want to train more than one\n",
    "pong_ddpdqn = []\n",
    "for r in range(REPEAT):\n",
    "    env = pongenv()\n",
    "    agent = pong_agent()\n",
    "    pong_ddpdqn.append(traindqn(env, agent, pong_args, test_rate=3, epsilon_decay=100000))"
   ]
  },
  {
   "cell_type": "code",
   "execution_count": 72,
   "metadata": {},
   "outputs": [
    {
     "data": {
      "image/png": "[encoded data removed]",
      "text/plain": [
       "<Figure size 432x288 with 1 Axes>"
      ]
     },
     "metadata": {
      "needs_background": "light"
     },
     "output_type": "display_data"
    },
    {
     "data": {
      "image/png": "[encoded data removed]",
      "text/plain": [
       "<Figure size 432x288 with 1 Axes>"
      ]
     },
     "metadata": {
      "needs_background": "light"
     },
     "output_type": "display_data"
    },
    {
     "data": {
      "image/png": "[encoded data removed]",
      "text/plain": [
       "<Figure size 432x288 with 1 Axes>"
      ]
     },
     "metadata": {
      "needs_background": "light"
     },
     "output_type": "display_data"
    }
   ],
   "source": [
    "comparison((pong_ddpdqn, \"PONG\"), texts = plot_texts)"
   ]
  },
  {
   "cell_type": "code",
   "execution_count": 73,
   "metadata": {
    "scrolled": true
   },
   "outputs": [
    {
     "name": "stderr",
     "output_type": "stream",
     "text": [
      "/home/mustafa/anaconda3/envs/blg604ehw2/lib/python3.7/site-packages/gym/envs/registration.py:14: PkgResourcesDeprecationWarning: Parameters to load are deprecated.  Call .resolve and .require separately.\n",
      "  result = entry_point.load(False)\n"
     ]
    }
   ],
   "source": [
    "best_agent_index = max(range(len(pong_ddpdqn)), key = lambda i: pong_ddpdqn[i][1][-1])\n",
    "best_agent_state_dict = pong_ddpdqn[best_agent_index][4]\n",
    "best_agent = pong_agent() \n",
    "best_agent.load_state_dict(best_agent_state_dict)\n",
    "\n",
    "# Monitor saves the mp4 files under \"monitor\" folder.\n",
    "monitor_path = \"Pong/\" + str(pong_args.episode) + \" episode\"\n",
    "model_path = \"monitor/Pong/model_state_dict\"\n",
    "episodic_test(agent=best_agent, env=pongenv(), args=pong_args, monitor_path=monitor_path)\n",
    "torch.save(best_agent_state_dict, model_path)"
   ]
  },
  {
   "cell_type": "markdown",
   "metadata": {},
   "source": [
    "## 2) Asynchronous Advantage Actor-Critic (50)\n",
    "[A3C](https://arxiv.org/abs/1602.01783) is a policy gradinet algorithm which is based on asynchronous updates of paralel agents.\n",
    "You will be testing your agent in:\n",
    "\n",
    "- [Bipedal Walker](https://gym.openai.com/envs/BipedalWalker-v2/)\n",
    "- [Breakout](https://gym.openai.com/envs/Breakout-v0/)"
   ]
  },
  {
   "cell_type": "markdown",
   "metadata": {},
   "source": [
    "### a) Bipedal Walker with Asynchronous Advantage Actor-Critic (20)\n",
    "It is important to test your implementation with a simpler enviroment like BipedalWalker before trying Breakout.\n",
    "It is highly recommended to check the pseudocode in the paper's appendix.\n",
    "\n",
    "The implementation works as follows:\n",
    "\n",
    "    - Create a global agent which's paremeters are in the shared memory.\n",
    "    - Create multiple worker processes. That performs:\n",
    "        - Gradient calculation with the transition it observed\n",
    "        - Update the global agent with the gradients\n",
    "        - Synchronize with the global agent\n",
    "    - Create a test process that evaluates the performance of the global agent over the course of the training\n",
    "    - Run these workers asynchronously\n",
    "    \n",
    "   "
   ]
  },
  {
   "cell_type": "code",
   "execution_count": 74,
   "metadata": {},
   "outputs": [
    {
     "name": "stdout",
     "output_type": "stream",
     "text": [
      "The autoreload extension is already loaded. To reload it, use:\n",
      "  %reload_ext autoreload\n"
     ]
    }
   ],
   "source": [
    "# In order to use modified modules without restarting\n",
    "%load_ext autoreload\n",
    "%autoreload 2"
   ]
  },
  {
   "cell_type": "code",
   "execution_count": 75,
   "metadata": {},
   "outputs": [],
   "source": [
    "import gym\n",
    "from collections import namedtuple\n",
    "import torch.multiprocessing as mp \n",
    "\n",
    "from blg604ehw2.network import FcNet\n",
    "from blg604ehw2.network import ContinuousDistHead\n",
    "from blg604ehw2.network import Network\n",
    "from blg604ehw2.network import a3c_continuous\n",
    "\n",
    "from blg604ehw2.a3c import ContinuousA3c\n",
    "from blg604ehw2.a3c import SharedAdam\n",
    "from blg604ehw2.a3c import train_worker\n",
    "from blg604ehw2.a3c import test_worker\n",
    "from blg604ehw2.a3c import A3C_args\n",
    "\n",
    "import os\n",
    "os.environ[\"OMP_NUM_THREADS\"] = \"1\"\n",
    "\n",
    "# Bipedal Walker environment is similar to Lunar Lander\n",
    "# State space is a vector of length 24 and there are\n",
    "# 4 actions\n",
    "envname = \"BipedalWalker-v2\"\n",
    "\n",
    "# Logger is a named tuple of shared lists integer and a model\n",
    "# It is necessary to have a shared object since it can be used\n",
    "# by many processes\n",
    "Logger = namedtuple(\"Logger\", \"eps_reward best_reward best_model time_steps time\")\n",
    "\n",
    "# Hyperparameters, again tunning is necessary but optional.\n",
    "a3c_args = A3C_args(\n",
    "    **dict(\n",
    "        maxtimestep=5000000,     # Number of time steps for training\n",
    "        maxlen=2000,           # Maximum length of an episode\n",
    "        nstep=20,               # Bootsrapping length (n-step td)\n",
    "        gamma=0.99,             # Discount rate\n",
    "        lr=0.0001,              # Learning rate\n",
    "        beta=0.01,              # Entropy regularization constant\n",
    "        device=\"cpu\",           # Device\n",
    "    )\n",
    ")\n",
    "\n",
    "# Agent generating function\n",
    "# I tried to create my own network\n",
    "# Since the old one didn't give me good results\n",
    "def a3c_agent():\n",
    "#     feature_net = FcNet(24)\n",
    "#     head_net = ContinuousDistHead(128, 4)\n",
    "#     network = Network(feature_net, head_net)\n",
    "    \n",
    "    network = a3c_continuous(24, 4)\n",
    "    agent = ContinuousA3c(network)\n",
    "    agent.device = a3c_args.device\n",
    "    return agent\n",
    "\n",
    "# Environment generating function\n",
    "# You can use RewardClip wrapper\n",
    "def walker_env():\n",
    "    env =  gym.make(envname)\n",
    "    return env\n",
    "    "
   ]
  },
  {
   "cell_type": "code",
   "execution_count": 6,
   "metadata": {
    "scrolled": true
   },
   "outputs": [
    {
     "name": "stderr",
     "output_type": "stream",
     "text": [
      "/home/mustafa/anaconda3/envs/blg604ehw2/lib/python3.7/site-packages/gym/envs/registration.py:14: PkgResourcesDeprecationWarning: Parameters to load are deprecated.  Call .resolve and .require separately.\n",
      "  result = entry_point.load(False)\n",
      "/home/mustafa/anaconda3/envs/blg604ehw2/lib/python3.7/site-packages/gym/envs/registration.py:14: PkgResourcesDeprecationWarning: Parameters to load are deprecated.  Call .resolve and .require separately.\n",
      "  result = entry_point.load(False)\n",
      "/home/mustafa/anaconda3/envs/blg604ehw2/lib/python3.7/site-packages/gym/envs/registration.py:14: PkgResourcesDeprecationWarning: Parameters to load are deprecated.  Call .resolve and .require separately.\n",
      "  result = entry_point.load(False)\n"
     ]
    },
    {
     "name": "stdout",
     "output_type": "stream",
     "text": [
      "\u001b[33mWARN: gym.spaces.Box autodetected dtype as <class 'numpy.float32'>. Please provide explicit dtype.\u001b[0m\n",
      "\u001b[33mWARN: gym.spaces.Box autodetected dtype as <class 'numpy.float32'>. Please provide explicit dtype.\u001b[0m\n"
     ]
    },
    {
     "name": "stderr",
     "output_type": "stream",
     "text": [
      "/home/mustafa/anaconda3/envs/blg604ehw2/lib/python3.7/site-packages/gym/envs/registration.py:14: PkgResourcesDeprecationWarning: Parameters to load are deprecated.  Call .resolve and .require separately.\n",
      "  result = entry_point.load(False)\n"
     ]
    },
    {
     "name": "stdout",
     "output_type": "stream",
     "text": [
      "Saver started!\n",
      "\u001b[33mWARN: gym.spaces.Box autodetected dtype as <class 'numpy.float32'>. Please provide explicit dtype.\u001b[0m\n",
      "\u001b[33mWARN: gym.spaces.Box autodetected dtype as <class 'numpy.float32'>. Please provide explicit dtype.\u001b[0m\n",
      "\u001b[33mWARN: gym.spaces.Box autodetected dtype as <class 'numpy.float32'>. Please provide explicit dtype.\u001b[0m\n",
      "\u001b[33mWARN: gym.spaces.Box autodetected dtype as <class 'numpy.float32'>. Please provide explicit dtype.\u001b[0m\n",
      "\u001b[33mWARN: gym.spaces.Box autodetected dtype as <class 'numpy.float32'>. Please provide explicit dtype.\u001b[0m\n",
      "\u001b[33mWARN: gym.spaces.Box autodetected dtype as <class 'numpy.float32'>. Please provide explicit dtype.\u001b[0m\n"
     ]
    },
    {
     "data": {
      "application/vnd.jupyter.widget-view+json": {
       "model_id": "c7b7a4e8173441cca3dc29bfd9dae589",
       "version_major": 2,
       "version_minor": 0
      },
      "text/plain": [
       "VBox(children=(HTML(value=''), IntProgress(value=0, max=5000000)))"
      ]
     },
     "metadata": {},
     "output_type": "display_data"
    },
    {
     "name": "stderr",
     "output_type": "stream",
     "text": [
      "/home/mustafa/anaconda3/envs/blg604ehw2/lib/python3.7/site-packages/gym/envs/registration.py:14: PkgResourcesDeprecationWarning: Parameters to load are deprecated.  Call .resolve and .require separately.\n",
      "  result = entry_point.load(False)\n",
      "/home/mustafa/anaconda3/envs/blg604ehw2/lib/python3.7/site-packages/gym/envs/registration.py:14: PkgResourcesDeprecationWarning: Parameters to load are deprecated.  Call .resolve and .require separately.\n",
      "  result = entry_point.load(False)\n",
      "/home/mustafa/anaconda3/envs/blg604ehw2/lib/python3.7/site-packages/gym/envs/registration.py:14: PkgResourcesDeprecationWarning: Parameters to load are deprecated.  Call .resolve and .require separately.\n",
      "  result = entry_point.load(False)\n"
     ]
    },
    {
     "name": "stdout",
     "output_type": "stream",
     "text": [
      "\u001b[33mWARN: gym.spaces.Box autodetected dtype as <class 'numpy.float32'>. Please provide explicit dtype.\u001b[0m\n",
      "\u001b[33mWARN: gym.spaces.Box autodetected dtype as <class 'numpy.float32'>. Please provide explicit dtype.\u001b[0m\n"
     ]
    },
    {
     "name": "stderr",
     "output_type": "stream",
     "text": [
      "/home/mustafa/anaconda3/envs/blg604ehw2/lib/python3.7/site-packages/gym/envs/registration.py:14: PkgResourcesDeprecationWarning: Parameters to load are deprecated.  Call .resolve and .require separately.\n",
      "  result = entry_point.load(False)\n",
      "/home/mustafa/anaconda3/envs/blg604ehw2/lib/python3.7/site-packages/gym/envs/registration.py:14: PkgResourcesDeprecationWarning: Parameters to load are deprecated.  Call .resolve and .require separately.\n",
      "  result = entry_point.load(False)\n"
     ]
    },
    {
     "name": "stdout",
     "output_type": "stream",
     "text": [
      "\u001b[33mWARN: gym.spaces.Box autodetected dtype as <class 'numpy.float32'>. Please provide explicit dtype.\u001b[0m\n",
      "\u001b[33mWARN: gym.spaces.Box autodetected dtype as <class 'numpy.float32'>. Please provide explicit dtype.\u001b[0m\n",
      "\u001b[33mWARN: gym.spaces.Box autodetected dtype as <class 'numpy.float32'>. Please provide explicit dtype.\u001b[0m\n",
      "\u001b[33mWARN: gym.spaces.Box autodetected dtype as <class 'numpy.float32'>. Please provide explicit dtype.\u001b[0m\n",
      "\u001b[33mWARN: gym.spaces.Box autodetected dtype as <class 'numpy.float32'>. Please provide explicit dtype.\u001b[0m\n",
      "\u001b[33mWARN: gym.spaces.Box autodetected dtype as <class 'numpy.float32'>. Please provide explicit dtype.\u001b[0m\n",
      "\u001b[33mWARN: gym.spaces.Box autodetected dtype as <class 'numpy.float32'>. Please provide explicit dtype.\u001b[0m\n",
      "\u001b[33mWARN: gym.spaces.Box autodetected dtype as <class 'numpy.float32'>. Please provide explicit dtype.\u001b[0m\n",
      "Time 00h 01m 21s, episode reward -30.78515743685492, episode length 1600\n",
      "Time 00h 02m 27s, episode reward -107.37108480369797, episode length 104\n",
      "Time 00h 04m 42s, episode reward -106.0357470622543, episode length 1600\n",
      "Time 00h 07m 06s, episode reward -75.14167775268649, episode length 1600\n",
      "Time 00h 08m 09s, episode reward -102.16054460457283, episode length 53\n",
      "Time 00h 10m 34s, episode reward -73.16416480943627, episode length 1600\n",
      "Time 00h 11m 39s, episode reward -105.02959918003637, episode length 167\n",
      "Time 00h 12m 51s, episode reward -107.20578592059886, episode length 221\n",
      "Time 00h 15m 08s, episode reward -61.95313751251771, episode length 1600\n",
      "Time 00h 16m 26s, episode reward -111.51794634459385, episode length 299\n",
      "Time 00h 18m 41s, episode reward -72.65801498304359, episode length 1600\n",
      "Time 00h 19m 49s, episode reward -125.35983988244271, episode length 138\n",
      "Time 00h 22m 07s, episode reward -77.32218831048101, episode length 1600\n",
      "Time 00h 23m 11s, episode reward -125.30938129094926, episode length 134\n",
      "Time 00h 25m 32s, episode reward -79.47932088328527, episode length 1600\n",
      "Time 00h 27m 45s, episode reward -72.88684996310266, episode length 1600\n",
      "Time 00h 28m 54s, episode reward -97.97231516281745, episode length 152\n",
      "Saved at time 153570\n",
      "Time 00h 31m 17s, episode reward -75.01912328499701, episode length 1600\n",
      "Time 00h 33m 28s, episode reward -79.75337337690482, episode length 1600\n",
      "Time 00h 35m 38s, episode reward -75.03310189391392, episode length 1600\n",
      "Time 00h 37m 54s, episode reward -78.01445103110771, episode length 1600\n",
      "Time 00h 40m 10s, episode reward -70.98140393777454, episode length 1600\n",
      "Time 00h 42m 25s, episode reward -44.27730917858811, episode length 1600\n",
      "Time 00h 43m 27s, episode reward -96.39698330268047, episode length 83\n",
      "Time 00h 44m 32s, episode reward -100.53543940909051, episode length 72\n",
      "Time 00h 45m 37s, episode reward -95.05248486944225, episode length 84\n",
      "Time 00h 46m 42s, episode reward -95.25163674678498, episode length 99\n",
      "Time 00h 47m 47s, episode reward -96.76152381585088, episode length 109\n",
      "Time 00h 48m 51s, episode reward -99.62247759977045, episode length 67\n",
      "Time 00h 49m 54s, episode reward -103.16904054502523, episode length 63\n",
      "Time 00h 50m 56s, episode reward -100.60917743883088, episode length 45\n",
      "Time 00h 52m 02s, episode reward -98.50271458389051, episode length 147\n",
      "Time 00h 53m 05s, episode reward -98.67938530366041, episode length 65\n",
      "Time 00h 54m 07s, episode reward -96.15760199080873, episode length 94\n",
      "Time 00h 55m 12s, episode reward -95.84242327548688, episode length 116\n",
      "Time 00h 56m 15s, episode reward -96.50373061004099, episode length 83\n",
      "Time 00h 57m 21s, episode reward -96.2105788990163, episode length 119\n",
      "Time 00h 58m 29s, episode reward -94.17070762019884, episode length 166\n",
      "Time 00h 59m 36s, episode reward -94.3238244717214, episode length 135\n",
      "Saved at time 325285\n",
      "Time 01h 00m 43s, episode reward -94.43613423130675, episode length 149\n",
      "Time 01h 01m 48s, episode reward -103.18751798058938, episode length 83\n",
      "Time 01h 02m 57s, episode reward -94.61446588407301, episode length 121\n",
      "Time 01h 04m 05s, episode reward -94.47425822715046, episode length 159\n",
      "Time 01h 05m 10s, episode reward -100.51558314430893, episode length 112\n",
      "Time 01h 06m 14s, episode reward -102.94391412684072, episode length 86\n",
      "Time 01h 07m 22s, episode reward -96.45053726120106, episode length 133\n",
      "Time 01h 08m 28s, episode reward -95.37379425289079, episode length 123\n",
      "Time 01h 09m 31s, episode reward -102.97786044677657, episode length 80\n",
      "Time 01h 10m 36s, episode reward -99.30678625647444, episode length 79\n",
      "Time 01h 11m 40s, episode reward -91.65270345801304, episode length 102\n",
      "Time 01h 12m 44s, episode reward -97.3346981873624, episode length 91\n",
      "Time 01h 13m 48s, episode reward -94.5083400223758, episode length 76\n",
      "Time 01h 14m 52s, episode reward -95.66624164221808, episode length 69\n",
      "Time 01h 15m 56s, episode reward -96.65002798727456, episode length 56\n",
      "Time 01h 17m 01s, episode reward -96.58984803277751, episode length 84\n",
      "Time 01h 18m 05s, episode reward -97.52645028124812, episode length 103\n",
      "Time 01h 19m 10s, episode reward -92.00361619227488, episode length 99\n",
      "Time 01h 20m 15s, episode reward -91.6005759274775, episode length 96\n",
      "Time 01h 21m 22s, episode reward -89.11752734046956, episode length 109\n",
      "Time 01h 22m 29s, episode reward -93.9806493698079, episode length 99\n",
      "Time 01h 23m 36s, episode reward -91.47391750978382, episode length 129\n",
      "Time 01h 24m 39s, episode reward -99.16910034161681, episode length 64\n",
      "Time 01h 25m 44s, episode reward -94.32323116287526, episode length 79\n",
      "Time 01h 26m 48s, episode reward -96.25507679597219, episode length 69\n",
      "Time 01h 27m 54s, episode reward -92.96503710877538, episode length 121\n",
      "Time 01h 29m 01s, episode reward -87.67828925805236, episode length 96\n",
      "Saved at time 507333\n",
      "Time 01h 30m 05s, episode reward -98.20235967485172, episode length 62\n",
      "Time 01h 31m 11s, episode reward -90.35321173064648, episode length 116\n",
      "Time 01h 32m 15s, episode reward -92.03765039947925, episode length 100\n",
      "Time 01h 33m 22s, episode reward -91.8139800029459, episode length 159\n",
      "Time 01h 34m 27s, episode reward -87.59051060971757, episode length 110\n",
      "Time 01h 35m 33s, episode reward -91.9104317231945, episode length 136\n",
      "Time 01h 36m 38s, episode reward -91.82736670412558, episode length 105\n",
      "Time 01h 37m 42s, episode reward -93.0248057289999, episode length 80\n",
      "Time 01h 40m 04s, episode reward -46.590744715190525, episode length 1600\n",
      "Time 01h 41m 07s, episode reward -98.52492219217432, episode length 60\n",
      "Time 01h 42m 12s, episode reward -88.2824617256218, episode length 89\n",
      "Time 01h 43m 15s, episode reward -88.36950058267607, episode length 104\n",
      "Time 01h 44m 20s, episode reward -97.13637539976712, episode length 65\n",
      "Time 01h 45m 25s, episode reward -85.06675556498767, episode length 92\n",
      "Time 01h 46m 32s, episode reward -88.01719680007112, episode length 106\n",
      "Time 01h 47m 38s, episode reward -87.01738851365673, episode length 108\n",
      "Time 01h 48m 43s, episode reward -90.65527454453924, episode length 155\n",
      "Time 01h 49m 47s, episode reward -88.0500550580537, episode length 97\n",
      "Time 01h 50m 51s, episode reward -87.09648653625696, episode length 101\n",
      "Time 01h 51m 54s, episode reward -100.70294054817408, episode length 58\n",
      "Time 01h 52m 58s, episode reward -90.90194307765907, episode length 109\n",
      "Time 01h 54m 07s, episode reward -93.05049609747793, episode length 194\n",
      "Time 01h 55m 12s, episode reward -78.25863774551048, episode length 144\n",
      "Time 01h 56m 17s, episode reward -87.0521929279597, episode length 98\n",
      "Time 01h 58m 26s, episode reward -36.618742489275725, episode length 1600\n",
      "Time 01h 59m 32s, episode reward -83.75778888335452, episode length 187\n",
      "Saved at time 680491\n",
      "Time 02h 00m 34s, episode reward -88.24019476802367, episode length 154\n",
      "Time 02h 01m 41s, episode reward -90.6570177022124, episode length 152\n",
      "Time 02h 02m 44s, episode reward -92.4280119570736, episode length 86\n",
      "Time 02h 03m 50s, episode reward -88.49759574089168, episode length 99\n",
      "Time 02h 04m 57s, episode reward -86.39818669193362, episode length 94\n",
      "Time 02h 06m 00s, episode reward -90.91524597991506, episode length 84\n",
      "Time 02h 07m 07s, episode reward -90.58229333673899, episode length 84\n",
      "Time 02h 08m 11s, episode reward -86.4457770401556, episode length 96\n",
      "Time 02h 09m 14s, episode reward -91.74063133349394, episode length 87\n"
     ]
    },
    {
     "name": "stdout",
     "output_type": "stream",
     "text": [
      "Time 02h 10m 20s, episode reward -90.22041850861194, episode length 86\n",
      "Time 02h 11m 25s, episode reward -90.10517519938355, episode length 99\n",
      "Time 02h 12m 30s, episode reward -90.4085482965121, episode length 99\n",
      "Time 02h 13m 40s, episode reward -83.80932493261528, episode length 146\n",
      "Time 02h 14m 46s, episode reward -82.1558266023025, episode length 136\n",
      "Time 02h 15m 53s, episode reward -85.95830511785718, episode length 105\n",
      "Time 02h 16m 57s, episode reward -90.23646953451261, episode length 90\n",
      "Time 02h 18m 04s, episode reward -88.912142308043, episode length 97\n",
      "Time 02h 19m 13s, episode reward -80.94689989436093, episode length 150\n",
      "Time 02h 21m 26s, episode reward 57.34005917764618, episode length 1600\n",
      "Time 02h 22m 29s, episode reward -88.62376442501446, episode length 90\n",
      "Time 02h 24m 50s, episode reward -19.41291668565188, episode length 1600\n",
      "Time 02h 25m 58s, episode reward -86.61163366156289, episode length 126\n",
      "Time 02h 27m 03s, episode reward -88.57894586024767, episode length 98\n",
      "Time 02h 28m 08s, episode reward -89.1404231182194, episode length 92\n",
      "Time 02h 29m 13s, episode reward -86.68395729608399, episode length 123\n",
      "Saved at time 839628\n",
      "Time 02h 30m 23s, episode reward -85.99157158922621, episode length 130\n",
      "Time 02h 31m 28s, episode reward -89.90129215968959, episode length 80\n",
      "Time 02h 32m 36s, episode reward -78.88198091819083, episode length 129\n",
      "Time 02h 33m 40s, episode reward -85.6685204713354, episode length 97\n",
      "Time 02h 34m 54s, episode reward -63.40614028896843, episode length 203\n",
      "Time 02h 35m 59s, episode reward -88.62914341118497, episode length 85\n",
      "Time 02h 37m 02s, episode reward -90.04469868792532, episode length 85\n",
      "Time 02h 38m 06s, episode reward -82.4871041293093, episode length 93\n",
      "Time 02h 39m 12s, episode reward -89.32618697457264, episode length 88\n",
      "Time 02h 40m 17s, episode reward -86.83432636162267, episode length 88\n",
      "Time 02h 41m 31s, episode reward -41.06791438616165, episode length 273\n",
      "Time 02h 42m 37s, episode reward -88.11748695356808, episode length 85\n",
      "Time 02h 43m 43s, episode reward -82.75007001604357, episode length 104\n",
      "Time 02h 46m 07s, episode reward -52.69635137452291, episode length 1600\n",
      "Time 02h 47m 13s, episode reward -92.2752212307772, episode length 88\n",
      "Time 02h 49m 04s, episode reward 17.648355153662607, episode length 960\n",
      "Time 02h 50m 09s, episode reward -88.56445338339327, episode length 84\n",
      "Time 02h 51m 25s, episode reward -39.684548697475776, episode length 285\n",
      "Time 02h 52m 40s, episode reward -43.62132606943258, episode length 282\n",
      "Time 02h 53m 58s, episode reward -63.4551441881456, episode length 258\n",
      "Time 02h 55m 06s, episode reward -66.39104661800509, episode length 173\n",
      "Time 02h 56m 27s, episode reward -4.6646891526496574, episode length 420\n",
      "Time 02h 57m 32s, episode reward -71.5931244346248, episode length 124\n",
      "Time 02h 58m 42s, episode reward -62.17689790547515, episode length 215\n",
      "Saved at time 994029\n",
      "Time 03h 00m 10s, episode reward -4.0098061050371285, episode length 507\n",
      "Time 03h 01m 20s, episode reward -47.41182416352197, episode length 228\n",
      "Time 03h 03m 01s, episode reward 58.12791422429072, episode length 977\n",
      "Time 03h 04m 19s, episode reward 9.659199716415273, episode length 437\n",
      "Time 03h 05m 22s, episode reward -86.58965357341803, episode length 87\n",
      "Time 03h 07m 39s, episode reward 258.0210505315354, episode length 1600\n",
      "Time 03h 09m 12s, episode reward 17.22860393892104, episode length 598\n",
      "Time 03h 11m 16s, episode reward 186.56473875794114, episode length 1365\n",
      "Time 03h 12m 24s, episode reward -64.15706439020204, episode length 168\n",
      "Time 03h 13m 32s, episode reward -51.91204914128218, episode length 219\n",
      "Time 03h 15m 47s, episode reward 294.14274787554007, episode length 1596\n",
      "Time 03h 17m 00s, episode reward -54.26890192143393, episode length 207\n",
      "Time 03h 18m 34s, episode reward 48.72484026309144, episode length 774\n",
      "Time 03h 19m 46s, episode reward -58.78761205529919, episode length 316\n",
      "Time 03h 22m 04s, episode reward 293.8236760957551, episode length 1584\n",
      "Time 03h 23m 34s, episode reward 51.3112697222187, episode length 670\n",
      "Time 03h 25m 06s, episode reward 52.49608736930628, episode length 719\n",
      "Time 03h 26m 54s, episode reward 153.50838019931064, episode length 875\n",
      "Time 03h 28m 02s, episode reward -74.00182672463714, episode length 135\n",
      "Time 03h 29m 09s, episode reward -53.701857674446586, episode length 200\n",
      "Saved at time 1162402\n",
      "Time 03h 30m 17s, episode reward -64.53689161500964, episode length 165\n",
      "Time 03h 32m 24s, episode reward 260.39999947786606, episode length 1600\n",
      "Time 03h 33m 36s, episode reward -46.95713218485777, episode length 236\n",
      "Time 03h 35m 37s, episode reward 299.6967578756985, episode length 1289\n",
      "Time 03h 37m 54s, episode reward 278.7024502332884, episode length 1600\n",
      "Time 03h 38m 59s, episode reward -99.72656608112995, episode length 204\n",
      "Time 03h 41m 11s, episode reward 214.18623876624306, episode length 1600\n",
      "Time 03h 42m 19s, episode reward -69.37969627425387, episode length 193\n",
      "Time 03h 43m 24s, episode reward -88.4865620691289, episode length 92\n",
      "Time 03h 44m 37s, episode reward -55.818321804369816, episode length 259\n",
      "Time 03h 45m 40s, episode reward -83.86738959301387, episode length 110\n",
      "Time 03h 48m 03s, episode reward 79.92889399768103, episode length 1404\n",
      "Time 03h 49m 35s, episode reward -52.945520294191134, episode length 663\n",
      "Time 03h 51m 51s, episode reward 199.15737996106327, episode length 1274\n",
      "Time 03h 53m 09s, episode reward -26.68918763119106, episode length 305\n",
      "Time 03h 54m 36s, episode reward 41.10549567852078, episode length 563\n",
      "Time 03h 56m 04s, episode reward -14.272049497106664, episode length 330\n",
      "Time 03h 57m 19s, episode reward -15.175179818348084, episode length 362\n",
      "Time 03h 59m 35s, episode reward 151.25842517054505, episode length 1190\n",
      "Saved at time 1316828\n",
      "Time 04h 02m 34s, episode reward 299.71516085743457, episode length 1429\n",
      "Time 04h 04m 38s, episode reward 28.83473590454321, episode length 670\n",
      "Time 04h 06m 08s, episode reward -49.27199743956242, episode length 399\n",
      "Time 04h 08m 24s, episode reward 255.04682861163687, episode length 1600\n",
      "Time 04h 11m 37s, episode reward 285.57380693262724, episode length 1511\n",
      "Time 04h 13m 23s, episode reward -22.36483287106742, episode length 325\n",
      "Time 04h 15m 33s, episode reward 305.0556687538269, episode length 1221\n",
      "Time 04h 17m 19s, episode reward 27.648106726707994, episode length 622\n",
      "Time 04h 19m 01s, episode reward 58.126769367695886, episode length 708\n",
      "Time 04h 21m 09s, episode reward 132.64850522911297, episode length 1189\n",
      "Time 04h 22m 18s, episode reward -72.81642460626551, episode length 142\n",
      "Time 04h 24m 36s, episode reward 296.73206420955535, episode length 1396\n",
      "Time 04h 25m 53s, episode reward -5.7279568114139465, episode length 355\n",
      "Time 04h 27m 07s, episode reward -36.957954320546555, episode length 245\n",
      "Time 04h 28m 17s, episode reward -42.114602361499934, episode length 233\n",
      "Time 04h 29m 30s, episode reward -34.18276436370394, episode length 265\n",
      "Saved at time 1421731\n",
      "Time 04h 31m 38s, episode reward 312.4309786617677, episode length 1243\n",
      "Time 04h 33m 58s, episode reward 304.22625864967245, episode length 1369\n",
      "Time 04h 35m 30s, episode reward 35.71269807294803, episode length 587\n",
      "Time 04h 37m 50s, episode reward 272.5159657060479, episode length 1600\n",
      "Time 04h 40m 03s, episode reward 302.1800391866736, episode length 1330\n",
      "Time 04h 41m 27s, episode reward 44.41252783637955, episode length 523\n",
      "Time 04h 43m 34s, episode reward 303.737564265127, episode length 1389\n",
      "Time 04h 45m 53s, episode reward 300.0349378084267, episode length 1514\n",
      "Time 04h 47m 15s, episode reward 13.20017739710255, episode length 452\n",
      "Time 04h 49m 32s, episode reward 299.4734630534537, episode length 1458\n",
      "Time 04h 50m 53s, episode reward -2.156442819149305, episode length 374\n",
      "Time 04h 52m 56s, episode reward 301.8933537093673, episode length 1278\n",
      "Time 04h 54m 30s, episode reward 55.46395449531397, episode length 651\n",
      "Time 04h 56m 35s, episode reward 305.8761055943409, episode length 1261\n",
      "Time 04h 57m 51s, episode reward -43.184979678049174, episode length 264\n",
      "Time 04h 59m 22s, episode reward 39.66742500383407, episode length 576\n",
      "Saved at time 1559880\n",
      "Time 05h 00m 40s, episode reward -48.51675564787866, episode length 250\n",
      "Time 05h 02m 02s, episode reward 19.178900487507093, episode length 439\n"
     ]
    },
    {
     "name": "stdout",
     "output_type": "stream",
     "text": [
      "Time 05h 03m 19s, episode reward -4.4977686816866935, episode length 360\n",
      "Time 05h 05m 32s, episode reward 302.4072908580822, episode length 1352\n",
      "Time 05h 06m 45s, episode reward -44.4877967045872, episode length 238\n",
      "Time 05h 08m 45s, episode reward 308.11949128354354, episode length 1171\n",
      "Time 05h 11m 10s, episode reward 291.7419730817329, episode length 1592\n",
      "Time 05h 13m 14s, episode reward 302.6762924929662, episode length 1250\n",
      "Time 05h 15m 20s, episode reward 292.82879745468244, episode length 1341\n",
      "Time 05h 16m 39s, episode reward 5.058090892755104, episode length 434\n",
      "Time 05h 17m 49s, episode reward -59.091224923629916, episode length 177\n",
      "Time 05h 18m 53s, episode reward -85.72679792424722, episode length 105\n",
      "Time 05h 20m 32s, episode reward 63.46227540311682, episode length 688\n",
      "Time 05h 22m 39s, episode reward 303.12411377262316, episode length 1370\n",
      "Time 05h 24m 50s, episode reward 302.42279364915737, episode length 1314\n",
      "Time 05h 26m 43s, episode reward 311.51271581710216, episode length 1107\n",
      "Time 05h 28m 44s, episode reward 312.03722925476984, episode length 1210\n",
      "Saved at time 1700549\n",
      "Time 05h 30m 48s, episode reward 308.2978800434311, episode length 1250\n",
      "Time 05h 32m 21s, episode reward 99.86384035694203, episode length 797\n",
      "Time 05h 34m 22s, episode reward 307.70973546687424, episode length 1334\n",
      "Time 05h 35m 41s, episode reward -1.7644618593439674, episode length 377\n",
      "Time 05h 37m 04s, episode reward -28.072159189406165, episode length 333\n",
      "Time 05h 39m 15s, episode reward 305.3596648627282, episode length 1270\n",
      "Time 05h 40m 33s, episode reward -14.673821508711185, episode length 375\n",
      "Time 05h 42m 27s, episode reward 123.83926314584687, episode length 981\n",
      "Time 05h 44m 40s, episode reward 303.9852472219207, episode length 1332\n",
      "Time 05h 46m 54s, episode reward 305.0947070601176, episode length 1296\n",
      "Time 05h 48m 51s, episode reward 132.4613692642331, episode length 1025\n",
      "Time 05h 50m 31s, episode reward 80.42604791463884, episode length 775\n",
      "Time 05h 52m 39s, episode reward 304.05203857194886, episode length 1345\n",
      "Time 05h 54m 06s, episode reward 56.12968494241068, episode length 525\n",
      "Time 05h 56m 08s, episode reward 313.8246494980164, episode length 1131\n",
      "Time 05h 58m 18s, episode reward 309.05995009166685, episode length 1279\n",
      "Saved at time 1833065\n",
      "Time 06h 00m 26s, episode reward 309.03101689858846, episode length 1284\n",
      "Time 06h 01m 59s, episode reward 75.17024287856401, episode length 609\n",
      "Time 06h 03m 44s, episode reward 126.97816685488354, episode length 827\n",
      "Time 06h 05m 46s, episode reward 308.3974184936272, episode length 1226\n",
      "Time 06h 07m 21s, episode reward 88.57533937316876, episode length 618\n",
      "Time 06h 08m 25s, episode reward -78.17037602573137, episode length 105\n",
      "Time 06h 10m 21s, episode reward 309.2705836741909, episode length 1222\n",
      "Time 06h 12m 27s, episode reward 310.8336178797724, episode length 1195\n",
      "Time 06h 14m 31s, episode reward 314.11372015503997, episode length 1239\n",
      "Time 06h 16m 37s, episode reward 310.2147901132939, episode length 1342\n",
      "Time 06h 18m 43s, episode reward 312.1962285479997, episode length 1239\n",
      "Time 06h 20m 53s, episode reward 309.41437278150613, episode length 1270\n",
      "Time 06h 22m 27s, episode reward 61.23493536815607, episode length 679\n",
      "Time 06h 24m 30s, episode reward 313.94967984333135, episode length 1128\n",
      "Time 06h 26m 34s, episode reward 309.22353685612643, episode length 1312\n",
      "Time 06h 28m 01s, episode reward 54.97216423112519, episode length 553\n",
      "Time 06h 29m 59s, episode reward 310.5055396217647, episode length 1142\n",
      "Saved at time 1970396\n",
      "Time 06h 31m 56s, episode reward 307.98731697914366, episode length 1172\n",
      "Time 06h 33m 55s, episode reward 308.23571693879416, episode length 1142\n",
      "Time 06h 35m 59s, episode reward 308.7219124004091, episode length 1229\n",
      "Time 06h 38m 04s, episode reward 306.1124502409165, episode length 1216\n",
      "Time 06h 39m 35s, episode reward 34.40546961952458, episode length 557\n",
      "Time 06h 41m 48s, episode reward 305.74009998192133, episode length 1273\n",
      "Time 06h 43m 49s, episode reward 305.65684987660387, episode length 1270\n",
      "Time 06h 45m 59s, episode reward 307.08372578190745, episode length 1280\n",
      "Time 06h 48m 11s, episode reward 304.52550916374827, episode length 1297\n",
      "Time 06h 50m 28s, episode reward 294.913343784769, episode length 1548\n",
      "Time 06h 52m 31s, episode reward 303.6640921416386, episode length 1271\n",
      "Time 06h 54m 40s, episode reward 302.1082518766056, episode length 1332\n",
      "Time 06h 56m 54s, episode reward 302.35485786753515, episode length 1368\n",
      "Time 06h 59m 08s, episode reward 298.11078996076606, episode length 1389\n",
      "Saved at time 2106749\n",
      "Time 07h 01m 24s, episode reward 300.91507917938566, episode length 1407\n",
      "Time 07h 03m 43s, episode reward 296.9859509998962, episode length 1455\n",
      "Time 07h 05m 58s, episode reward 302.60056733945953, episode length 1408\n",
      "Time 07h 07m 03s, episode reward -80.94429467168567, episode length 107\n",
      "Time 07h 09m 13s, episode reward 299.6719251897148, episode length 1386\n",
      "Time 07h 10m 18s, episode reward -91.08997434081509, episode length 85\n",
      "Time 07h 11m 22s, episode reward -82.94020529486922, episode length 101\n",
      "Time 07h 12m 28s, episode reward -75.10063113028278, episode length 120\n",
      "Time 07h 13m 33s, episode reward -88.12098856515685, episode length 85\n",
      "Time 07h 14m 39s, episode reward -76.56038980413786, episode length 117\n",
      "Time 07h 16m 37s, episode reward 308.4623818065962, episode length 1229\n",
      "Time 07h 18m 42s, episode reward 305.0471982366719, episode length 1251\n",
      "Time 07h 20m 42s, episode reward 304.8312615791866, episode length 1256\n",
      "Time 07h 22m 56s, episode reward 304.00150122039673, episode length 1252\n",
      "Time 07h 25m 01s, episode reward 305.8674084660299, episode length 1227\n",
      "Time 07h 27m 14s, episode reward 306.61031451046995, episode length 1257\n",
      "Time 07h 29m 18s, episode reward 309.3825239152997, episode length 1115\n",
      "Saved at time 2249677\n",
      "Time 07h 31m 16s, episode reward 309.85346492330586, episode length 1147\n",
      "Time 07h 33m 18s, episode reward 309.16857763126416, episode length 1205\n",
      "Time 07h 34m 31s, episode reward -45.82434172381493, episode length 232\n",
      "Time 07h 36m 40s, episode reward 303.93723972083944, episode length 1333\n",
      "Time 07h 38m 43s, episode reward 308.7146593313867, episode length 1172\n",
      "Time 07h 40m 45s, episode reward 312.54244117966374, episode length 1177\n",
      "Time 07h 42m 44s, episode reward 312.8340257114057, episode length 1150\n",
      "Time 07h 44m 55s, episode reward 304.94159295980194, episode length 1292\n",
      "Time 07h 46m 51s, episode reward 308.31626253501616, episode length 1175\n",
      "Time 07h 48m 02s, episode reward -43.60860235136266, episode length 222\n",
      "Time 07h 50m 05s, episode reward 310.62712934185566, episode length 1226\n",
      "Time 07h 52m 07s, episode reward 312.90245902783084, episode length 1142\n",
      "Time 07h 53m 30s, episode reward 22.10464246041414, episode length 465\n",
      "Time 07h 54m 57s, episode reward 6.553953017470874, episode length 457\n",
      "Time 07h 57m 01s, episode reward 311.9752385886049, episode length 1157\n",
      "Time 07h 59m 05s, episode reward 308.38699904206567, episode length 1230\n",
      "Saved at time 2384596\n",
      "Time 08h 01m 47s, episode reward 308.0569069123354, episode length 1287\n",
      "Time 08h 03m 46s, episode reward 311.93132356458955, episode length 1184\n",
      "Time 08h 05m 47s, episode reward 309.89060534367997, episode length 1227\n",
      "Time 08h 08m 02s, episode reward 306.88519427210224, episode length 1303\n",
      "Time 08h 10m 12s, episode reward 309.25762275779636, episode length 1223\n",
      "Time 08h 12m 20s, episode reward 309.2566843325563, episode length 1182\n",
      "Time 08h 14m 26s, episode reward 307.0781496775438, episode length 1245\n",
      "Time 08h 16m 45s, episode reward 308.90368800920567, episode length 1235\n",
      "Time 08h 18m 51s, episode reward 308.7233087559982, episode length 1169\n",
      "Time 08h 20m 55s, episode reward 307.83864378418866, episode length 1250\n",
      "Time 08h 22m 56s, episode reward 309.2818896021916, episode length 1186\n",
      "Time 08h 25m 19s, episode reward 303.4396644576598, episode length 1399\n",
      "Time 08h 27m 30s, episode reward 309.671658667986, episode length 1234\n",
      "Time 08h 29m 57s, episode reward 306.1543852742111, episode length 1342\n",
      "Saved at time 2506367\n",
      "Time 08h 31m 19s, episode reward 26.74150775802022, episode length 440\n",
      "Time 08h 33m 39s, episode reward 310.47290699445773, episode length 1157\n",
      "Time 08h 35m 36s, episode reward 303.28846853054534, episode length 1317\n"
     ]
    },
    {
     "name": "stdout",
     "output_type": "stream",
     "text": [
      "Time 08h 37m 21s, episode reward 314.3788381506516, episode length 1064\n",
      "Time 08h 39m 21s, episode reward 309.0736505820831, episode length 1182\n",
      "Time 08h 41m 16s, episode reward 309.97242547161164, episode length 1162\n",
      "Time 08h 43m 15s, episode reward 309.6300097464096, episode length 1177\n",
      "Time 08h 45m 08s, episode reward 311.2757371653277, episode length 1156\n",
      "Time 08h 47m 05s, episode reward 312.8488492806455, episode length 1102\n",
      "Time 08h 49m 09s, episode reward 306.975073039811, episode length 1272\n",
      "Time 08h 50m 16s, episode reward -75.91852396408065, episode length 122\n",
      "Time 08h 51m 34s, episode reward -1.4824681921318614, episode length 364\n",
      "Time 08h 53m 17s, episode reward 93.6686757322156, episode length 843\n",
      "Time 08h 55m 09s, episode reward 308.81804665486055, episode length 1128\n",
      "Time 08h 57m 12s, episode reward 307.702961419122, episode length 1193\n",
      "Time 08h 59m 17s, episode reward 308.1355699027159, episode length 1175\n",
      "Saved at time 2648416\n",
      "Time 09h 01m 13s, episode reward 308.2776791612637, episode length 1108\n",
      "Time 09h 03m 13s, episode reward 307.84258937345675, episode length 1173\n",
      "Time 09h 05m 02s, episode reward 308.1691999920192, episode length 1210\n",
      "Time 09h 06m 59s, episode reward 308.13254831286, episode length 1182\n",
      "Time 09h 08m 07s, episode reward -35.862168771891035, episode length 229\n",
      "Time 09h 10m 01s, episode reward 167.2558257498181, episode length 1032\n",
      "Time 09h 12m 04s, episode reward 308.60966642223826, episode length 1154\n",
      "Time 09h 13m 58s, episode reward 307.93344254208694, episode length 1167\n",
      "Time 09h 15m 56s, episode reward 308.6438142336724, episode length 1233\n",
      "Time 09h 17m 53s, episode reward 309.172964330283, episode length 1116\n",
      "Time 09h 18m 57s, episode reward -66.59988149425656, episode length 139\n",
      "Time 09h 21m 01s, episode reward 306.2798594776283, episode length 1228\n",
      "Time 09h 23m 06s, episode reward 306.0847346382192, episode length 1153\n",
      "Time 09h 25m 16s, episode reward 303.7432213905314, episode length 1228\n",
      "Time 09h 27m 22s, episode reward 294.44294159616294, episode length 1363\n",
      "Time 09h 29m 25s, episode reward 300.94310326048725, episode length 1204\n",
      "Saved at time 2794887\n",
      "Time 09h 30m 57s, episode reward 9.500462845243419, episode length 550\n",
      "Time 09h 32m 58s, episode reward 174.5764569395036, episode length 1164\n",
      "Time 09h 34m 46s, episode reward 300.60693951138734, episode length 1207\n",
      "Time 09h 36m 48s, episode reward 301.5132438721837, episode length 1211\n",
      "Time 09h 38m 55s, episode reward 292.2609481176401, episode length 1342\n",
      "Time 09h 40m 51s, episode reward 301.54014676726496, episode length 1224\n",
      "Time 09h 42m 51s, episode reward 154.8349400549316, episode length 1164\n",
      "Time 09h 44m 46s, episode reward 303.7626539419059, episode length 1170\n",
      "Time 09h 46m 42s, episode reward 302.52074087510357, episode length 1219\n",
      "Time 09h 48m 51s, episode reward 305.44503380746727, episode length 1164\n",
      "Time 09h 51m 00s, episode reward 307.6812479113243, episode length 1179\n",
      "Time 09h 53m 26s, episode reward 304.8715172675299, episode length 1215\n",
      "Time 09h 55m 44s, episode reward 308.16250578137533, episode length 1170\n",
      "Time 09h 57m 14s, episode reward 15.342132951326661, episode length 441\n",
      "Time 09h 58m 47s, episode reward 129.01723879430298, episode length 890\n",
      "Saved at time 2928016\n",
      "Time 10h 00m 50s, episode reward 308.061962482807, episode length 1191\n",
      "Time 10h 01m 58s, episode reward -78.65169785410973, episode length 115\n",
      "Time 10h 03m 03s, episode reward -91.52764579442618, episode length 82\n",
      "Time 10h 05m 11s, episode reward 310.3399431206706, episode length 1181\n",
      "Time 10h 06m 18s, episode reward -83.48174049380856, episode length 97\n",
      "Time 10h 07m 36s, episode reward 15.879776612617817, episode length 407\n",
      "Time 10h 09m 35s, episode reward 202.46212139183308, episode length 1055\n",
      "Time 10h 11m 46s, episode reward 308.314569815081, episode length 1209\n",
      "Time 10h 13m 48s, episode reward 307.74665463637126, episode length 1203\n",
      "Time 10h 15m 57s, episode reward 307.0135751666532, episode length 1222\n",
      "Time 10h 17m 57s, episode reward 309.2515604762821, episode length 1186\n",
      "Time 10h 20m 04s, episode reward 310.46371081267654, episode length 1228\n",
      "Time 10h 22m 04s, episode reward 308.7305581202265, episode length 1174\n",
      "Time 10h 23m 24s, episode reward -25.871536790099327, episode length 349\n",
      "Time 10h 25m 31s, episode reward 308.91879821584695, episode length 1281\n",
      "Time 10h 27m 37s, episode reward 306.55455106506327, episode length 1348\n",
      "Time 10h 29m 35s, episode reward 309.2564129282527, episode length 1216\n",
      "Saved at time 3055081\n",
      "Time 10h 31m 34s, episode reward 308.142989340968, episode length 1211\n",
      "Time 10h 33m 25s, episode reward 307.4076639849378, episode length 1200\n",
      "Time 10h 34m 43s, episode reward -1.41576486147558, episode length 374\n",
      "Time 10h 36m 52s, episode reward 307.9535535528225, episode length 1255\n",
      "Time 10h 38m 44s, episode reward 310.2578896414049, episode length 1149\n",
      "Time 10h 40m 12s, episode reward 28.427223809262074, episode length 492\n",
      "Time 10h 42m 16s, episode reward 308.6065899056969, episode length 1118\n",
      "Time 10h 44m 21s, episode reward 306.979175402937, episode length 1171\n",
      "Time 10h 46m 13s, episode reward 308.1118975041409, episode length 1030\n",
      "Time 10h 48m 16s, episode reward 305.910917146691, episode length 1207\n",
      "Time 10h 50m 10s, episode reward 310.7722252577319, episode length 1105\n",
      "Time 10h 52m 07s, episode reward 311.8690569495368, episode length 1081\n",
      "Time 10h 54m 03s, episode reward 311.1955884162823, episode length 1116\n",
      "Time 10h 56m 05s, episode reward 308.60618392522275, episode length 1179\n",
      "Time 10h 57m 53s, episode reward 311.21283016645043, episode length 1073\n",
      "Time 10h 59m 56s, episode reward 308.8414952144776, episode length 1184\n",
      "Saved at time 3192021\n",
      "Time 11h 01m 54s, episode reward 171.3519962228482, episode length 1021\n",
      "Time 11h 03m 49s, episode reward 311.5362295840916, episode length 1082\n",
      "Time 11h 05m 02s, episode reward -31.095888051271757, episode length 281\n",
      "Time 11h 07m 02s, episode reward 311.1901288248197, episode length 1131\n",
      "Time 11h 08m 59s, episode reward 309.87322174380654, episode length 1153\n",
      "Time 11h 11m 05s, episode reward 307.2396500134867, episode length 1209\n",
      "Time 11h 12m 52s, episode reward 316.80338421988733, episode length 1000\n",
      "Time 11h 14m 46s, episode reward 313.97046538937866, episode length 1073\n",
      "Time 11h 16m 44s, episode reward 311.0451941452215, episode length 1123\n",
      "Time 11h 18m 36s, episode reward 313.98160076601596, episode length 1071\n",
      "Time 11h 20m 34s, episode reward 310.3856714008612, episode length 1130\n",
      "Time 11h 22m 32s, episode reward 311.96617968489215, episode length 1139\n",
      "Time 11h 24m 30s, episode reward 313.1726072620993, episode length 1111\n",
      "Time 11h 26m 27s, episode reward 314.31421128807426, episode length 1105\n",
      "Time 11h 28m 28s, episode reward 312.5598868111296, episode length 1158\n",
      "Saved at time 3332390\n",
      "Time 11h 30m 24s, episode reward 313.482447546008, episode length 1071\n",
      "Time 11h 32m 20s, episode reward 310.5629672376227, episode length 1119\n",
      "Time 11h 33m 45s, episode reward 48.68924188011525, episode length 506\n",
      "Time 11h 35m 10s, episode reward 62.91439878713476, episode length 570\n",
      "Time 11h 37m 06s, episode reward 312.79086243201397, episode length 1067\n",
      "Time 11h 39m 03s, episode reward 314.59676037447235, episode length 1059\n",
      "Time 11h 41m 00s, episode reward 313.55395677057953, episode length 1097\n",
      "Time 11h 42m 55s, episode reward 314.41216666368695, episode length 1162\n",
      "Time 11h 44m 45s, episode reward 165.15684215558366, episode length 887\n",
      "Time 11h 46m 33s, episode reward 309.86782138712175, episode length 1135\n",
      "Time 11h 48m 29s, episode reward 312.3695111058081, episode length 1059\n",
      "Time 11h 50m 29s, episode reward 305.75752283516994, episode length 1193\n",
      "Time 11h 52m 29s, episode reward 305.23608652109596, episode length 1196\n",
      "Time 11h 54m 32s, episode reward 310.8176157390887, episode length 1104\n",
      "Time 11h 56m 28s, episode reward 310.2049410982949, episode length 1171\n",
      "Time 11h 58m 29s, episode reward 308.0768580998168, episode length 1143\n",
      "Saved at time 3471704\n",
      "Time 12h 00m 26s, episode reward 306.3681956565752, episode length 1151\n",
      "Time 12h 02m 23s, episode reward 307.81670831128497, episode length 1090\n",
      "Time 12h 04m 21s, episode reward 304.99682054350023, episode length 1159\n",
      "Time 12h 06m 31s, episode reward 300.5007940531332, episode length 1274\n"
     ]
    },
    {
     "name": "stdout",
     "output_type": "stream",
     "text": [
      "Time 12h 08m 34s, episode reward 298.74651564788996, episode length 1288\n",
      "Time 12h 10m 22s, episode reward 310.393060120453, episode length 1073\n",
      "Time 12h 12m 12s, episode reward 316.7649354416443, episode length 1018\n",
      "Time 12h 14m 08s, episode reward 310.9633083001546, episode length 1105\n",
      "Time 12h 16m 08s, episode reward 305.14452585842736, episode length 1159\n",
      "Time 12h 17m 55s, episode reward 316.89436724310553, episode length 990\n",
      "Time 12h 20m 00s, episode reward 307.2672638425256, episode length 1178\n",
      "Time 12h 22m 00s, episode reward 314.0859393513699, episode length 1062\n",
      "Time 12h 23m 49s, episode reward 315.44921598228206, episode length 1036\n",
      "Time 12h 25m 44s, episode reward 313.6864964328642, episode length 1072\n",
      "Time 12h 27m 41s, episode reward 308.46850617679513, episode length 1122\n",
      "Time 12h 29m 29s, episode reward 314.9528482154118, episode length 1003\n",
      "Saved at time 3612422\n",
      "Time 12h 31m 23s, episode reward 315.2923153173131, episode length 1028\n",
      "Time 12h 33m 20s, episode reward 315.73012599613236, episode length 1063\n",
      "Time 12h 35m 02s, episode reward 318.00403974163066, episode length 951\n",
      "Time 12h 36m 16s, episode reward -19.876330660978397, episode length 313\n",
      "Time 12h 37m 32s, episode reward -7.337517906588047, episode length 322\n",
      "Time 12h 39m 28s, episode reward 310.3093878262644, episode length 1107\n",
      "Time 12h 41m 22s, episode reward 313.54584155134853, episode length 1054\n",
      "Time 12h 43m 12s, episode reward 312.23244680152783, episode length 1041\n",
      "Time 12h 45m 03s, episode reward 317.4890312853678, episode length 963\n",
      "Time 12h 47m 00s, episode reward 313.09861674973723, episode length 1071\n",
      "Time 12h 49m 02s, episode reward 308.8865464338052, episode length 1182\n",
      "Time 12h 50m 58s, episode reward 311.3066777136661, episode length 1092\n",
      "Time 12h 52m 59s, episode reward 311.95675311870934, episode length 1058\n",
      "Time 12h 54m 54s, episode reward 304.7180384763506, episode length 1172\n",
      "Time 12h 56m 41s, episode reward 313.19817664174354, episode length 967\n",
      "Time 12h 58m 37s, episode reward 308.3394737601551, episode length 1112\n",
      "Saved at time 3753806\n",
      "Time 13h 00m 21s, episode reward 308.4151559915816, episode length 1107\n",
      "Time 13h 02m 20s, episode reward 307.02809742494503, episode length 1162\n",
      "Time 13h 04m 16s, episode reward 309.27335100922625, episode length 1121\n",
      "Time 13h 06m 09s, episode reward 306.8719429249308, episode length 1114\n",
      "Time 13h 08m 08s, episode reward 305.5104189604031, episode length 1133\n",
      "Time 13h 10m 06s, episode reward 303.9055167337211, episode length 1173\n",
      "Time 13h 12m 13s, episode reward 301.81217331419236, episode length 1246\n",
      "Time 13h 13m 42s, episode reward 76.63674059225775, episode length 544\n",
      "Time 13h 15m 36s, episode reward 313.1822027634613, episode length 1033\n",
      "Time 13h 17m 29s, episode reward 314.29446725166383, episode length 1052\n",
      "Time 13h 19m 21s, episode reward 310.01209244942817, episode length 1136\n",
      "Time 13h 21m 13s, episode reward 317.93868085276347, episode length 1010\n",
      "Time 13h 23m 03s, episode reward 317.7779915667865, episode length 995\n",
      "Time 13h 25m 01s, episode reward 313.50077992446876, episode length 1093\n",
      "Time 13h 26m 56s, episode reward 317.2591131515104, episode length 997\n",
      "Time 13h 28m 49s, episode reward 317.57718328492655, episode length 1003\n",
      "Saved at time 3892786\n",
      "Time 13h 30m 38s, episode reward 319.94237979817734, episode length 980\n",
      "Time 13h 32m 30s, episode reward 311.901932640115, episode length 1116\n",
      "Time 13h 34m 21s, episode reward 316.9663298463382, episode length 1014\n",
      "Time 13h 36m 07s, episode reward 316.8114447466377, episode length 1035\n",
      "Time 13h 37m 57s, episode reward 317.55635027022504, episode length 1028\n",
      "Time 13h 39m 48s, episode reward 318.19894241554715, episode length 998\n",
      "Time 13h 41m 38s, episode reward 316.8494276928346, episode length 995\n",
      "Time 13h 43m 43s, episode reward 309.8048659412378, episode length 1170\n",
      "Time 13h 45m 41s, episode reward 313.9024744570274, episode length 1039\n",
      "Time 13h 47m 36s, episode reward 311.83236154321537, episode length 1080\n",
      "Time 13h 49m 41s, episode reward 309.01743324868096, episode length 1201\n",
      "Time 13h 51m 41s, episode reward 309.3199795407743, episode length 1086\n",
      "Time 13h 53m 33s, episode reward 308.8340861127778, episode length 1127\n",
      "Time 13h 55m 26s, episode reward 311.68856188414486, episode length 1032\n",
      "Time 13h 57m 20s, episode reward 307.83279991337105, episode length 1130\n",
      "Time 13h 58m 38s, episode reward 64.02715241750735, episode length 484\n",
      "Time 13h 59m 51s, episode reward -17.12922614849812, episode length 275\n",
      "Saved at time 4033296\n",
      "Time 14h 01m 48s, episode reward 310.7003316845313, episode length 1086\n",
      "Time 14h 02m 59s, episode reward -38.56042482773896, episode length 219\n",
      "Time 14h 04m 12s, episode reward -15.691720322266221, episode length 287\n",
      "Time 14h 06m 03s, episode reward 312.6637650676079, episode length 1034\n",
      "Time 14h 08m 04s, episode reward 311.04242375525166, episode length 1064\n",
      "Time 14h 10m 01s, episode reward 313.5655364522586, episode length 1024\n",
      "Time 14h 12m 00s, episode reward 306.7101379576991, episode length 1119\n",
      "Time 14h 13m 55s, episode reward 307.26925900635945, episode length 1090\n",
      "Time 14h 15m 47s, episode reward 306.57523228093277, episode length 1125\n",
      "Time 14h 17m 56s, episode reward 307.23762553405106, episode length 1109\n",
      "Time 14h 19m 45s, episode reward 314.6687895875938, episode length 1009\n",
      "Time 14h 21m 38s, episode reward 315.35828101838905, episode length 1013\n",
      "Time 14h 23m 26s, episode reward 314.230676820512, episode length 1063\n",
      "Time 14h 25m 14s, episode reward 316.3191397089182, episode length 989\n",
      "Time 14h 27m 15s, episode reward 309.0713762412122, episode length 1143\n",
      "Time 14h 29m 01s, episode reward 315.48219268347094, episode length 998\n",
      "Saved at time 4176095\n",
      "Time 14h 30m 42s, episode reward 315.6749334924318, episode length 1062\n",
      "Time 14h 32m 39s, episode reward 314.3656139057024, episode length 1100\n",
      "Time 14h 34m 29s, episode reward 315.5540914301134, episode length 1011\n",
      "Time 14h 35m 41s, episode reward -39.93504857349162, episode length 213\n",
      "Time 14h 37m 34s, episode reward 316.06610990664126, episode length 998\n",
      "Time 14h 39m 29s, episode reward 308.917853483078, episode length 1114\n",
      "Time 14h 41m 25s, episode reward 308.71612937626014, episode length 1118\n",
      "Time 14h 43m 22s, episode reward 312.5978704377523, episode length 1058\n",
      "Time 14h 45m 17s, episode reward 313.25374761119406, episode length 1059\n",
      "Time 14h 47m 15s, episode reward 310.61000490959793, episode length 1092\n",
      "Time 14h 49m 13s, episode reward 313.0533408237254, episode length 1090\n",
      "Time 14h 51m 16s, episode reward 310.3230808163623, episode length 1135\n",
      "Time 14h 53m 05s, episode reward 314.15327633406184, episode length 1002\n",
      "Time 14h 54m 57s, episode reward 314.73931052966003, episode length 994\n",
      "Time 14h 56m 49s, episode reward 311.23380340412183, episode length 1060\n",
      "Time 14h 58m 45s, episode reward 311.2315817850258, episode length 1088\n",
      "Saved at time 4318015\n",
      "Time 15h 00m 34s, episode reward 307.68628491483094, episode length 1098\n",
      "Time 15h 02m 28s, episode reward 309.8853804176784, episode length 1008\n",
      "Time 15h 04m 18s, episode reward 151.6344244110231, episode length 843\n",
      "Time 15h 06m 11s, episode reward 309.0580988570606, episode length 1071\n",
      "Time 15h 08m 01s, episode reward 309.45046526569087, episode length 1073\n",
      "Time 15h 09m 54s, episode reward 313.6561486318308, episode length 1008\n",
      "Time 15h 11m 53s, episode reward 311.7366051533095, episode length 1055\n",
      "Time 15h 13m 49s, episode reward 311.2303308845787, episode length 1044\n",
      "Time 15h 15m 40s, episode reward 315.5538296506923, episode length 988\n",
      "Time 15h 17m 36s, episode reward 314.8990939617333, episode length 1004\n",
      "Time 15h 19m 30s, episode reward 313.17362130172216, episode length 1053\n",
      "Time 15h 21m 27s, episode reward 314.2492393408773, episode length 1016\n",
      "Time 15h 23m 15s, episode reward 315.1480049349139, episode length 1015\n",
      "Time 15h 25m 07s, episode reward 313.8102923071222, episode length 1045\n",
      "Time 15h 27m 00s, episode reward 311.17405744865005, episode length 1065\n",
      "Time 15h 28m 59s, episode reward 309.47793388770066, episode length 1128\n",
      "Saved at time 4458373\n",
      "Time 15h 30m 41s, episode reward 312.7800483107682, episode length 1019\n",
      "Time 15h 32m 35s, episode reward 314.304912465416, episode length 989\n",
      "Time 15h 34m 30s, episode reward 316.76424824977056, episode length 979\n"
     ]
    },
    {
     "name": "stdout",
     "output_type": "stream",
     "text": [
      "Time 15h 36m 24s, episode reward 313.39015826037905, episode length 1027\n",
      "Time 15h 38m 06s, episode reward 174.33171520673494, episode length 850\n",
      "Time 15h 39m 49s, episode reward 318.69220807587186, episode length 948\n",
      "Time 15h 41m 37s, episode reward 315.3975825971939, episode length 1007\n",
      "Time 15h 43m 28s, episode reward 314.32264041251324, episode length 1030\n",
      "Time 15h 45m 24s, episode reward 312.4248229584722, episode length 1046\n",
      "Time 15h 47m 23s, episode reward 315.1915524068384, episode length 1041\n",
      "Time 15h 49m 13s, episode reward 319.5864803502167, episode length 991\n",
      "Time 15h 51m 05s, episode reward 314.6191827619019, episode length 1083\n",
      "Time 15h 53m 00s, episode reward 321.096350849567, episode length 983\n",
      "Time 15h 55m 00s, episode reward 317.01905671085353, episode length 1022\n",
      "Time 15h 56m 53s, episode reward 315.04432766216223, episode length 1048\n",
      "Time 15h 58m 48s, episode reward 309.4867933894847, episode length 1092\n",
      "Saved at time 4597105\n",
      "Time 16h 00m 38s, episode reward 310.08614017085085, episode length 1074\n",
      "Time 16h 02m 27s, episode reward 310.6598254593434, episode length 1062\n",
      "Time 16h 04m 27s, episode reward 310.1251114548608, episode length 1154\n",
      "Time 16h 06m 19s, episode reward 314.01799086707695, episode length 1087\n",
      "Time 16h 08m 14s, episode reward 312.8409800211587, episode length 1053\n",
      "Time 16h 10m 11s, episode reward 313.7863238031207, episode length 1062\n",
      "Time 16h 12m 03s, episode reward 317.00749876178656, episode length 952\n",
      "Time 16h 13m 57s, episode reward 310.3507428775722, episode length 1086\n",
      "Time 16h 15m 54s, episode reward 310.61335537172573, episode length 1106\n",
      "Time 16h 17m 47s, episode reward 313.1368343305453, episode length 1024\n",
      "Time 16h 19m 49s, episode reward 311.3812540428757, episode length 1086\n",
      "Time 16h 21m 40s, episode reward 314.23287180068746, episode length 1060\n",
      "Time 16h 23m 26s, episode reward 313.19603839905113, episode length 1079\n",
      "Time 16h 25m 14s, episode reward 314.5294921587585, episode length 1024\n",
      "Time 16h 27m 07s, episode reward 310.88722412800684, episode length 1105\n",
      "Time 16h 28m 58s, episode reward 313.2147877420735, episode length 1086\n",
      "Saved at time 4741769\n",
      "Time 16h 30m 58s, episode reward 311.5014926599515, episode length 1100\n",
      "Time 16h 32m 49s, episode reward 312.79620618934166, episode length 1152\n",
      "Time 16h 34m 42s, episode reward 313.69682187717177, episode length 1127\n",
      "Time 16h 36m 35s, episode reward 311.4384894621682, episode length 1081\n",
      "Time 16h 38m 30s, episode reward 307.4271276435855, episode length 1137\n",
      "Time 16h 40m 23s, episode reward 311.4959238103074, episode length 1089\n",
      "Time 16h 42m 14s, episode reward 308.9853140944271, episode length 1132\n",
      "Time 16h 44m 07s, episode reward 308.87962472545996, episode length 1220\n",
      "Time 16h 46m 08s, episode reward 311.6096714711724, episode length 1162\n",
      "Time 16h 48m 09s, episode reward 306.36322046545274, episode length 1190\n",
      "Time 16h 49m 58s, episode reward 310.92292647877565, episode length 1079\n",
      "Time 16h 51m 50s, episode reward 309.9286624198035, episode length 1078\n",
      "Time 16h 53m 42s, episode reward 306.3262587778147, episode length 1186\n",
      "Time 16h 55m 29s, episode reward 310.2665622212716, episode length 1102\n",
      "Time 16h 57m 17s, episode reward 310.9294855277577, episode length 1080\n",
      "Time 16h 59m 09s, episode reward 312.2368963661128, episode length 1052\n",
      "Saved at time 4898346\n",
      "Time 17h 00m 42s, episode reward 315.8452104857649, episode length 1008\n",
      "Time 17h 02m 25s, episode reward 312.30714850228793, episode length 1037\n",
      "Time 17h 04m 18s, episode reward 314.98250457346484, episode length 992\n",
      "Time 17h 06m 02s, episode reward 313.6900120783281, episode length 986\n",
      "Time 17h 07m 43s, episode reward 163.97143272970743, episode length 824\n",
      "Time 17h 09m 17s, episode reward 168.477704194287, episode length 790\n",
      "Time 17h 11m 10s, episode reward 313.48698210605886, episode length 1026\n",
      "Time 17h 13m 02s, episode reward 313.3985998161799, episode length 1057\n",
      "Time 17h 14m 45s, episode reward 312.37130750180233, episode length 1012\n",
      "Time 17h 16m 37s, episode reward 313.10160868858236, episode length 1034\n",
      "Time 17h 18m 24s, episode reward 309.64124922569965, episode length 1043\n",
      "Saved at time 5000067\n"
     ]
    },
    {
     "name": "stderr",
     "output_type": "stream",
     "text": [
      "Process Process-11:\n",
      "Traceback (most recent call last):\n",
      "  File \"/home/mustafa/anaconda3/envs/blg604ehw2/lib/python3.7/multiprocessing/process.py\", line 297, in _bootstrap\n",
      "    self.run()\n",
      "  File \"/home/mustafa/anaconda3/envs/blg604ehw2/lib/python3.7/multiprocessing/process.py\", line 99, in run\n",
      "    self._target(*self._args, **self._kwargs)\n",
      "  File \"<ipython-input-6-ac04f9e91327>\", line 56, in saver\n",
      "    sleep(60 * 30)\n",
      "KeyboardInterrupt\n"
     ]
    },
    {
     "ename": "KeyboardInterrupt",
     "evalue": "",
     "output_type": "error",
     "traceback": [
      "\u001b[0;31m---------------------------------------------------------------------------\u001b[0m",
      "\u001b[0;31mKeyboardInterrupt\u001b[0m                         Traceback (most recent call last)",
      "\u001b[0;32m<ipython-input-6-ac04f9e91327>\u001b[0m in \u001b[0;36m<module>\u001b[0;34m()\u001b[0m\n\u001b[1;32m     72\u001b[0m \u001b[0;31m# Wait until all done\u001b[0m\u001b[0;34m\u001b[0m\u001b[0;34m\u001b[0m\u001b[0;34m\u001b[0m\u001b[0m\n\u001b[1;32m     73\u001b[0m \u001b[0;32mfor\u001b[0m \u001b[0mp\u001b[0m \u001b[0;32min\u001b[0m \u001b[0mprocesses\u001b[0m\u001b[0;34m:\u001b[0m\u001b[0;34m\u001b[0m\u001b[0;34m\u001b[0m\u001b[0m\n\u001b[0;32m---> 74\u001b[0;31m     \u001b[0mp\u001b[0m\u001b[0;34m.\u001b[0m\u001b[0mjoin\u001b[0m\u001b[0;34m(\u001b[0m\u001b[0;34m)\u001b[0m\u001b[0;34m\u001b[0m\u001b[0;34m\u001b[0m\u001b[0m\n\u001b[0m",
      "\u001b[0;32m~/anaconda3/envs/blg604ehw2/lib/python3.7/multiprocessing/process.py\u001b[0m in \u001b[0;36mjoin\u001b[0;34m(self, timeout)\u001b[0m\n\u001b[1;32m    138\u001b[0m         \u001b[0;32massert\u001b[0m \u001b[0mself\u001b[0m\u001b[0;34m.\u001b[0m\u001b[0m_parent_pid\u001b[0m \u001b[0;34m==\u001b[0m \u001b[0mos\u001b[0m\u001b[0;34m.\u001b[0m\u001b[0mgetpid\u001b[0m\u001b[0;34m(\u001b[0m\u001b[0;34m)\u001b[0m\u001b[0;34m,\u001b[0m \u001b[0;34m'can only join a child process'\u001b[0m\u001b[0;34m\u001b[0m\u001b[0;34m\u001b[0m\u001b[0m\n\u001b[1;32m    139\u001b[0m         \u001b[0;32massert\u001b[0m \u001b[0mself\u001b[0m\u001b[0;34m.\u001b[0m\u001b[0m_popen\u001b[0m \u001b[0;32mis\u001b[0m \u001b[0;32mnot\u001b[0m \u001b[0;32mNone\u001b[0m\u001b[0;34m,\u001b[0m \u001b[0;34m'can only join a started process'\u001b[0m\u001b[0;34m\u001b[0m\u001b[0;34m\u001b[0m\u001b[0m\n\u001b[0;32m--> 140\u001b[0;31m         \u001b[0mres\u001b[0m \u001b[0;34m=\u001b[0m \u001b[0mself\u001b[0m\u001b[0;34m.\u001b[0m\u001b[0m_popen\u001b[0m\u001b[0;34m.\u001b[0m\u001b[0mwait\u001b[0m\u001b[0;34m(\u001b[0m\u001b[0mtimeout\u001b[0m\u001b[0;34m)\u001b[0m\u001b[0;34m\u001b[0m\u001b[0;34m\u001b[0m\u001b[0m\n\u001b[0m\u001b[1;32m    141\u001b[0m         \u001b[0;32mif\u001b[0m \u001b[0mres\u001b[0m \u001b[0;32mis\u001b[0m \u001b[0;32mnot\u001b[0m \u001b[0;32mNone\u001b[0m\u001b[0;34m:\u001b[0m\u001b[0;34m\u001b[0m\u001b[0;34m\u001b[0m\u001b[0m\n\u001b[1;32m    142\u001b[0m             \u001b[0m_children\u001b[0m\u001b[0;34m.\u001b[0m\u001b[0mdiscard\u001b[0m\u001b[0;34m(\u001b[0m\u001b[0mself\u001b[0m\u001b[0;34m)\u001b[0m\u001b[0;34m\u001b[0m\u001b[0;34m\u001b[0m\u001b[0m\n",
      "\u001b[0;32m~/anaconda3/envs/blg604ehw2/lib/python3.7/multiprocessing/popen_fork.py\u001b[0m in \u001b[0;36mwait\u001b[0;34m(self, timeout)\u001b[0m\n\u001b[1;32m     46\u001b[0m                     \u001b[0;32mreturn\u001b[0m \u001b[0;32mNone\u001b[0m\u001b[0;34m\u001b[0m\u001b[0;34m\u001b[0m\u001b[0m\n\u001b[1;32m     47\u001b[0m             \u001b[0;31m# This shouldn't block if wait() returned successfully.\u001b[0m\u001b[0;34m\u001b[0m\u001b[0;34m\u001b[0m\u001b[0;34m\u001b[0m\u001b[0m\n\u001b[0;32m---> 48\u001b[0;31m             \u001b[0;32mreturn\u001b[0m \u001b[0mself\u001b[0m\u001b[0;34m.\u001b[0m\u001b[0mpoll\u001b[0m\u001b[0;34m(\u001b[0m\u001b[0mos\u001b[0m\u001b[0;34m.\u001b[0m\u001b[0mWNOHANG\u001b[0m \u001b[0;32mif\u001b[0m \u001b[0mtimeout\u001b[0m \u001b[0;34m==\u001b[0m \u001b[0;36m0.0\u001b[0m \u001b[0;32melse\u001b[0m \u001b[0;36m0\u001b[0m\u001b[0;34m)\u001b[0m\u001b[0;34m\u001b[0m\u001b[0;34m\u001b[0m\u001b[0m\n\u001b[0m\u001b[1;32m     49\u001b[0m         \u001b[0;32mreturn\u001b[0m \u001b[0mself\u001b[0m\u001b[0;34m.\u001b[0m\u001b[0mreturncode\u001b[0m\u001b[0;34m\u001b[0m\u001b[0;34m\u001b[0m\u001b[0m\n\u001b[1;32m     50\u001b[0m \u001b[0;34m\u001b[0m\u001b[0m\n",
      "\u001b[0;32m~/anaconda3/envs/blg604ehw2/lib/python3.7/multiprocessing/popen_fork.py\u001b[0m in \u001b[0;36mpoll\u001b[0;34m(self, flag)\u001b[0m\n\u001b[1;32m     26\u001b[0m         \u001b[0;32mif\u001b[0m \u001b[0mself\u001b[0m\u001b[0;34m.\u001b[0m\u001b[0mreturncode\u001b[0m \u001b[0;32mis\u001b[0m \u001b[0;32mNone\u001b[0m\u001b[0;34m:\u001b[0m\u001b[0;34m\u001b[0m\u001b[0;34m\u001b[0m\u001b[0m\n\u001b[1;32m     27\u001b[0m             \u001b[0;32mtry\u001b[0m\u001b[0;34m:\u001b[0m\u001b[0;34m\u001b[0m\u001b[0;34m\u001b[0m\u001b[0m\n\u001b[0;32m---> 28\u001b[0;31m                 \u001b[0mpid\u001b[0m\u001b[0;34m,\u001b[0m \u001b[0msts\u001b[0m \u001b[0;34m=\u001b[0m \u001b[0mos\u001b[0m\u001b[0;34m.\u001b[0m\u001b[0mwaitpid\u001b[0m\u001b[0;34m(\u001b[0m\u001b[0mself\u001b[0m\u001b[0;34m.\u001b[0m\u001b[0mpid\u001b[0m\u001b[0;34m,\u001b[0m \u001b[0mflag\u001b[0m\u001b[0;34m)\u001b[0m\u001b[0;34m\u001b[0m\u001b[0;34m\u001b[0m\u001b[0m\n\u001b[0m\u001b[1;32m     29\u001b[0m             \u001b[0;32mexcept\u001b[0m \u001b[0mOSError\u001b[0m \u001b[0;32mas\u001b[0m \u001b[0me\u001b[0m\u001b[0;34m:\u001b[0m\u001b[0;34m\u001b[0m\u001b[0;34m\u001b[0m\u001b[0m\n\u001b[1;32m     30\u001b[0m                 \u001b[0;31m# Child process not yet created. See #1731717\u001b[0m\u001b[0;34m\u001b[0m\u001b[0;34m\u001b[0m\u001b[0;34m\u001b[0m\u001b[0m\n",
      "\u001b[0;31mKeyboardInterrupt\u001b[0m: "
     ]
    }
   ],
   "source": [
    "### Main cell for Bipedal Walker ###\n",
    "\n",
    "# Number of training workers\n",
    "N_PROCESSES = 8\n",
    "\n",
    "# Global agent that will be used for synchronization.\n",
    "global_agent = a3c_agent()\n",
    "global_agent.share_memory()         # Make sure it is in the shared memory!\n",
    "\n",
    "# Shared optimizer, since the optimizer has its own parameters\n",
    "# they need to be in the shared memory as well.\n",
    "sharedopt = SharedAdam(global_agent.parameters(), lr=a3c_args.lr)\n",
    "\n",
    "# Another agent for logging purposes\n",
    "best_agent = a3c_agent()\n",
    "best_agent.share_memory()\n",
    "\n",
    "# Logger\n",
    "# Manager controls another process(server process) to share\n",
    "# objects between multiple processes via proxies.\n",
    "# Please read https://docs.python.org/3.7/library/multiprocessing.html\n",
    "# for more information.\n",
    "manager = mp.Manager()\n",
    "logger = Logger(\n",
    "    manager.list(),\n",
    "    manager.list(),\n",
    "    best_agent,\n",
    "    manager.list(),\n",
    "    manager.Value(\"i\", 0)\n",
    ")\n",
    "\n",
    "# Lock is not necessary\n",
    "lock = mp.Lock()\n",
    "\n",
    "# Start by creating a test worker\n",
    "processes = []\n",
    "process = mp.Process(target=test_worker,\n",
    "                     args=(a3c_args, global_agent, walker_env, a3c_agent, lock, logger))\n",
    "process.start()\n",
    "processes.append(process)\n",
    "\n",
    "# Train workers\n",
    "for t in range(N_PROCESSES):\n",
    "    process = mp.Process(target=train_worker,\n",
    "                         args=(a3c_args, global_agent, sharedopt, walker_env, a3c_agent, lock, logger))\n",
    "    process.start()\n",
    "    processes.append(process)\n",
    "\n",
    "# It took some time to give good results\n",
    "# So I saved the progress\n",
    "import pickle\n",
    "from time import sleep\n",
    "def saver(logger, lock):\n",
    "    print('Saver started!')\n",
    "    while True:\n",
    "        sleep(60 * 30)\n",
    "        with lock:\n",
    "            a = {\n",
    "                'eps_reward': list(logger.eps_reward),\n",
    "                'best_reward': list(logger.best_reward),\n",
    "                'best_model': logger.best_model.state_dict(),\n",
    "                'time_steps': list(logger.time_steps),\n",
    "                'time': logger.time.value\n",
    "            }\n",
    "            with open(f'walker_checkpoints/walker_logger_time_{logger.time.value}.pkl', 'wb') as handle:\n",
    "                pickle.dump(a, handle)\n",
    "            print('Saved at time', logger.time.value)\n",
    "            if logger.time.value >= ac3_args.maxtimestep:\n",
    "                break\n",
    "process = mp.Process(target=saver, args=(logger, lock))\n",
    "process.start()\n",
    "processes.append(process)\n",
    "\n",
    "# Wait until all done\n",
    "for p in processes:\n",
    "    p.join()"
   ]
  },
  {
   "cell_type": "code",
   "execution_count": 12,
   "metadata": {},
   "outputs": [
    {
     "data": {
      "image/png": "[encoded data removed]",
      "text/plain": [
       "<Figure size 432x288 with 1 Axes>"
      ]
     },
     "metadata": {
      "needs_background": "light"
     },
     "output_type": "display_data"
    }
   ],
   "source": [
    "# Plot the rewards from the logger\n",
    "import matplotlib.pyplot as plt\n",
    "plt.title(\"A3C Walker Best Rewards\")\n",
    "plt.ylabel(\"reward\")\n",
    "plt.xlabel(\"time steps\")\n",
    "plt.plot(list(logger.time_steps), list(logger.best_reward))"
   ]
  },
  {
   "cell_type": "code",
   "execution_count": 20,
   "metadata": {},
   "outputs": [
    {
     "name": "stderr",
     "output_type": "stream",
     "text": [
      "/home/mustafa/anaconda3/envs/blg604ehw2/lib/python3.7/site-packages/gym/envs/registration.py:14: PkgResourcesDeprecationWarning: Parameters to load are deprecated.  Call .resolve and .require separately.\n",
      "  result = entry_point.load(False)\n"
     ]
    },
    {
     "name": "stdout",
     "output_type": "stream",
     "text": [
      "\u001b[33mWARN: gym.spaces.Box autodetected dtype as <class 'numpy.float32'>. Please provide explicit dtype.\u001b[0m\n",
      "\u001b[33mWARN: gym.spaces.Box autodetected dtype as <class 'numpy.float32'>. Please provide explicit dtype.\u001b[0m\n",
      "False\n",
      "Done!\n",
      "320.61000971095405\n"
     ]
    },
    {
     "data": {
      "image/png": "[encoded data removed]",
      "text/plain": [
       "<Figure size 432x288 with 1 Axes>"
      ]
     },
     "metadata": {
      "needs_background": "light"
     },
     "output_type": "display_data"
    }
   ],
   "source": [
    "# Just to save a video of the walker walking\n",
    "import torch\n",
    "env = walker_env()\n",
    "eps_reward = 0\n",
    "best_model = best_agent\n",
    "rewards = []\n",
    "hx, cx = torch.zeros(1, 128), torch.zeros(1, 128)\n",
    "render = True\n",
    "\n",
    "best_agent.eval()\n",
    "monitor_path = \"Walker/\" + str(a3c_args.maxtimestep) + \" timestep\"\n",
    "model_path = \"monitor/Walker/model_state_dict\"\n",
    "\n",
    "if monitor_path:\n",
    "    path = \"monitor/\" + monitor_path\n",
    "    env = gym.wrappers.Monitor(\n",
    "        env, path, video_callable=lambda eps_id: True, force=True)\n",
    "    render = False\n",
    "    \n",
    "state = env.reset()\n",
    "state = torch.from_numpy(state).unsqueeze(0).float()\n",
    "while True:\n",
    "    action, (hx, cx) = best_model.greedy_policy((state, (hx, cx)))\n",
    "    if render:\n",
    "        env.render()\n",
    "\n",
    "    state, reward, done, _ = env.step(action)\n",
    "    state = torch.from_numpy(state).unsqueeze(0).float()\n",
    "    eps_reward += reward\n",
    "    rewards.append(reward)\n",
    "    \n",
    "    if done:\n",
    "        print('Done!')\n",
    "        break\n",
    "\n",
    "print(eps_reward)\n",
    "import matplotlib.pyplot as plt\n",
    "plt.plot(rewards)\n",
    "plt.show()\n",
    "env.close()\n",
    "\n",
    "# torch.save(best_agent.state_dict(), model_path)"
   ]
  },
  {
   "cell_type": "markdown",
   "metadata": {},
   "source": [
    "### b) Breakout with Asynchronous Advantage Actor-Critic (30)\n",
    "\n",
    "- It takes a lot of time so be prepared."
   ]
  },
  {
   "cell_type": "code",
   "execution_count": 78,
   "metadata": {},
   "outputs": [],
   "source": [
    "from blg604ehw2.atari_wrapper import ClipRewardEnv\n",
    "from blg604ehw2.atari_wrapper import FrameStack\n",
    "from blg604ehw2.atari_wrapper import EpisodicLifeEnv\n",
    "from blg604ehw2.atari_wrapper import WarpFrame\n",
    "from blg604ehw2.atari_wrapper import ScaledFloatFrame\n",
    "from blg604ehw2.atari_wrapper import FireResetEnv\n",
    "\n",
    "from blg604ehw2.network import Cnn\n",
    "from blg604ehw2.network import DiscreteDistHead\n",
    "from blg604ehw2.network import a3c_discrete\n",
    "\n",
    "from blg604ehw2.a3c import DiscreteA3c\n",
    "\n",
    "\n",
    "# Breakout Environment\n",
    "envname = \"Breakout-v4\"\n",
    "Logger = namedtuple(\"Logger\", \"eps_reward best_reward best_model time_steps time\")\n",
    "\n",
    "# Hyperparameters\n",
    "breakout_args = A3C_args(\n",
    "    **dict(\n",
    "        maxtimestep=2000000,\n",
    "        maxlen=2000,\n",
    "        nstep=20,\n",
    "        gamma=0.98,\n",
    "        lr=0.00003,\n",
    "        beta=0.01,\n",
    "        device=\"cpu\",\n",
    "    )\n",
    ")\n",
    "\n",
    "def breakout_agent():\n",
    "#     feature_net = Cnn(4, 512) # 4 channel size because of the StackFrame buffer\n",
    "#     head_net = DiscreteDistHead(512, 4) # 4 output because of the environment's action space\n",
    "#     network = Network(feature_net, head_net)\n",
    "\n",
    "    # The previous model didn't get me where I wanted\n",
    "    # So I tried my own model\n",
    "    network = a3c_discrete(4, 4)\n",
    "\n",
    "    agent = DiscreteA3c(network)\n",
    "    agent.device = breakout_args.device\n",
    "    return agent\n",
    "\n",
    "def breakout_env():\n",
    "    env = gym.make(envname)\n",
    "    env = ClipRewardEnv(env)            # Clip the reward between -1 and 1\n",
    "    env = WarpFrame(env)                # Downsample rgb (210, 160, 3) images to gray images (84, 84)\n",
    "    env = EpisodicLifeEnv(env)          # Terminate the environment after a live is lost\n",
    "    env = FrameStack(env, k=4)          # Stack consecutive frames as a single state\n",
    "    env = FireResetEnv(env)             # To start the game at the beginning or when it is done \n",
    "    return env"
   ]
  },
  {
   "cell_type": "code",
   "execution_count": 81,
   "metadata": {},
   "outputs": [
    {
     "data": {
      "application/vnd.jupyter.widget-view+json": {
       "model_id": "330efe43bf3244deb69e666b17a4df98",
       "version_major": 2,
       "version_minor": 0
      },
      "text/plain": [
       "VBox(children=(HTML(value=''), IntProgress(value=0, max=2000000)))"
      ]
     },
     "metadata": {},
     "output_type": "display_data"
    }
   ],
   "source": [
    "### Main cell for Breakout ###\n",
    "\n",
    "N_PROCESSES = 16\n",
    "\n",
    "global_agent = breakout_agent()\n",
    "global_agent.share_memory()\n",
    "sharedopt = SharedAdam(global_agent.parameters(), lr=breakout_args.lr)\n",
    "\n",
    "best_agent = breakout_agent()\n",
    "best_agent.share_memory()\n",
    "\n",
    "# Try to use one manager\n",
    "# manager = mp.Manager()\n",
    "logger = Logger(\n",
    "    manager.list(),\n",
    "    manager.list(),\n",
    "    best_agent,\n",
    "    manager.list(),\n",
    "    manager.Value(\"i\", 0)\n",
    ")\n",
    "\n",
    "lock = mp.Lock() \n",
    "\n",
    "processes = []\n",
    "\n",
    "process = mp.Process(target=test_worker,\n",
    "                     args=(breakout_args, global_agent, breakout_env, breakout_agent, lock, logger))\n",
    "process.start()\n",
    "processes.append(process)\n",
    "for t in range(N_PROCESSES):\n",
    "    process = mp.Process(target=train_worker,\n",
    "                         args=(breakout_args, global_agent, sharedopt, breakout_env, breakout_agent, lock, logger))\n",
    "    process.start()\n",
    "    processes.append(process)\n",
    "\n",
    "for p in processes:\n",
    "    p.join()"
   ]
  },
  {
   "cell_type": "code",
   "execution_count": 83,
   "metadata": {},
   "outputs": [
    {
     "data": {
      "text/plain": [
       "[<matplotlib.lines.Line2D at 0x7ff93e99fcf8>]"
      ]
     },
     "execution_count": 83,
     "metadata": {},
     "output_type": "execute_result"
    },
    {
     "data": {
      "image/png": "[encoded data removed]",
      "text/plain": [
       "<Figure size 432x288 with 1 Axes>"
      ]
     },
     "metadata": {
      "needs_background": "light"
     },
     "output_type": "display_data"
    }
   ],
   "source": [
    "# Plot the rewards from the logger\n",
    "import matplotlib.pyplot as plt\n",
    "plt.title(\"A3C Breakout Best Rewards\")\n",
    "plt.ylabel(\"reward\")\n",
    "plt.xlabel(\"time steps\")\n",
    "plt.plot(list(logger.time_steps), list(logger.best_reward))"
   ]
  },
  {
   "cell_type": "code",
   "execution_count": 89,
   "metadata": {},
   "outputs": [],
   "source": [
    "# Save the best model's parameters\n",
    "model_path = \"monitor/Breakout/model_state_dict\"\n",
    "torch.save(logger.best_model.state_dict(), model_path)"
   ]
  }
 ],
 "metadata": {
  "kernelspec": {
   "display_name": "Python 3",
   "language": "python",
   "name": "python3"
  },
  "language_info": {
   "codemirror_mode": {
    "name": "ipython",
    "version": 3
   },
   "file_extension": ".py",
   "mimetype": "text/x-python",
   "name": "python",
   "nbconvert_exporter": "python",
   "pygments_lexer": "ipython3",
   "version": "3.7.3"
  }
 },
 "nbformat": 4,
 "nbformat_minor": 2
}
